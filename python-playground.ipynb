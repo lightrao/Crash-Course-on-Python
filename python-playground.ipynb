{
 "cells": [
  {
   "cell_type": "code",
   "execution_count": 59,
   "metadata": {},
   "outputs": [
    {
     "name": "stdout",
     "output_type": "stream",
     "text": [
      "Dave Bowman\n",
      "Frank Poole\n",
      "33\n"
     ]
    }
   ],
   "source": [
    "# declare class\n",
    "class User:\n",
    "    pass\n",
    "\n",
    "\n",
    "user1 = User()  # 'instance'('object') of User\n",
    "user1.first_name = \"Dave\"  # Field: data attached to an object\n",
    "user1.last_name = \"Bowman\"\n",
    "print(user1.first_name, user1.last_name)\n",
    "\n",
    "user2 = User()\n",
    "user2.first_name = \"Frank\"\n",
    "user2.last_name = \"Poole\"\n",
    "print(user2.first_name, user2.last_name)\n",
    "\n",
    "user1.age = 33\n",
    "user2.favorite_book = \"A Brief History of Time\"\n",
    "print(user1.age)\n",
    "# print(user1.favorite_book)"
   ]
  },
  {
   "cell_type": "code",
   "execution_count": 60,
   "metadata": {},
   "outputs": [
    {
     "name": "stdout",
     "output_type": "stream",
     "text": [
      "144\n",
      "Help on class User in module __main__:\n",
      "\n",
      "class User(builtins.object)\n",
      " |  User(full_name, birthday)\n",
      " |  \n",
      " |  A member of amazon website, for now only storing name and birthday.\n",
      " |  \n",
      " |  Methods defined here:\n",
      " |  \n",
      " |  __init__(self, full_name, birthday)\n",
      " |      Initialize self.  See help(type(self)) for accurate signature.\n",
      " |  \n",
      " |  age(self)\n",
      " |      Return the age of the user in years.\n",
      " |  \n",
      " |  ----------------------------------------------------------------------\n",
      " |  Data descriptors defined here:\n",
      " |  \n",
      " |  __dict__\n",
      " |      dictionary for instance variables (if defined)\n",
      " |  \n",
      " |  __weakref__\n",
      " |      list of weak references to the object (if defined)\n",
      "\n"
     ]
    }
   ],
   "source": [
    "import datetime\n",
    "\n",
    "\n",
    "# Class features: Field, Methods, Initialization, Help text\n",
    "class User:\n",
    "    \"\"\"A member of amazon website, for now only storing name and birthday.\"\"\"\n",
    "\n",
    "    def __init__(self, full_name, birthday):\n",
    "        self.name = full_name\n",
    "        self.birthday = birthday  # yyyymmdd\n",
    "\n",
    "        # Extract fist name and last names\n",
    "        name_pieces = full_name.split(\" \")\n",
    "        self.first_name = name_pieces[0]\n",
    "        self.last_name = name_pieces[-1]\n",
    "\n",
    "    def age(self):\n",
    "        \"\"\"Return the age of the user in years.\"\"\"\n",
    "        today = datetime.date.today()\n",
    "        yyyy = int(self.birthday[0:4])\n",
    "        mm = int(self.birthday[4:6])\n",
    "        dd = int(self.birthday[6:8])\n",
    "        dob = datetime.date(yyyy, mm, dd)  # Date of birth\n",
    "        age_in_days = (today - dob).days\n",
    "        age_in_years = age_in_days / 365\n",
    "        return int(age_in_years)\n",
    "\n",
    "\n",
    "user = User(\"Albert Einstein\", \"18790314\")\n",
    "# print(user.name)\n",
    "# print(user.birthday)\n",
    "# print(user.first_name)\n",
    "# print(user.last_name)\n",
    "\n",
    "\n",
    "print(user.age())\n",
    "help(User)"
   ]
  }
 ],
 "metadata": {
  "kernelspec": {
   "display_name": "Python 3",
   "language": "python",
   "name": "python3"
  },
  "language_info": {
   "codemirror_mode": {
    "name": "ipython",
    "version": 3
   },
   "file_extension": ".py",
   "mimetype": "text/x-python",
   "name": "python",
   "nbconvert_exporter": "python",
   "pygments_lexer": "ipython3",
   "version": "3.9.13"
  },
  "orig_nbformat": 4
 },
 "nbformat": 4,
 "nbformat_minor": 2
}
