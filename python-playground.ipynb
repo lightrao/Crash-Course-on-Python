{
 "cells": [
  {
   "attachments": {},
   "cell_type": "markdown",
   "metadata": {},
   "source": [
    "<pre>@ symbol in front of a decorator.</pre>\n",
    "\n",
    "<br>\n",
    "\n",
    "<pre>\n",
    "@function_decorator\n",
    "def function_name():\n",
    "    ~~~function body~~~\n",
    "\n",
    "@class_decorator\n",
    "class Class_name:\n",
    "    @method_decorator\n",
    "    def method_name():\n",
    "        ~~~method body~~~\n",
    "\n",
    "    ~~~class definition~~~\n",
    "</pre>\n"
   ]
  },
  {
   "attachments": {},
   "cell_type": "markdown",
   "metadata": {},
   "source": [
    "<p>\n",
    "In python, funcitons and classes are First Class Citizens:\n",
    "can be passed like regular data types\n",
    "</p>\n",
    "<p>\n",
    "In python, function can be nested\n",
    "</p>\n"
   ]
  },
  {
   "cell_type": "code",
   "execution_count": 3,
   "metadata": {},
   "outputs": [
    {
     "name": "stdout",
     "output_type": "stream",
     "text": [
      "13\n"
     ]
    }
   ],
   "source": [
    "# functions can be passed as argument\n",
    "def compose(f, g, x):\n",
    "    return f(g(x))\n",
    "\n",
    "\n",
    "compose(print, len, \"Hello, world!\")"
   ]
  },
  {
   "cell_type": "code",
   "execution_count": 4,
   "metadata": {},
   "outputs": [
    {
     "name": "stdout",
     "output_type": "stream",
     "text": [
      "9\n",
      "27\n",
      "9\n",
      "9\n",
      "9\n",
      "27\n",
      "27\n",
      "9\n",
      "81\n",
      "27\n"
     ]
    }
   ],
   "source": [
    "# function can be nested, can be returned as value\n",
    "import random\n",
    "\n",
    "\n",
    "def random_power():\n",
    "    def f(x):\n",
    "        return x**2\n",
    "\n",
    "    def g(x):\n",
    "        return x**3\n",
    "\n",
    "    def h(x):\n",
    "        return x**4\n",
    "\n",
    "    functions = [f, g, h]\n",
    "    return random.choice(functions)\n",
    "\n",
    "\n",
    "for _ in range(10):\n",
    "    p = random_power()\n",
    "    print(p(3))"
   ]
  },
  {
   "cell_type": "code",
   "execution_count": 5,
   "metadata": {},
   "outputs": [
    {
     "name": "stdout",
     "output_type": "stream",
     "text": [
      "Prime factorization of 1048577 = [17, 61681]\n",
      "--------------------\n",
      "Prime factorization of 8388609 = [3, 2796203]\n",
      "--------------------\n",
      "Prime factorization of 536870913 = [3, 59, 3033169]\n",
      "--------------------\n",
      "Prime factorization of 4294967297 = [641, 6700417]\n",
      "--------------------\n"
     ]
    }
   ],
   "source": [
    "# Timer decorator\n",
    "import time\n",
    "\n",
    "\n",
    "def timer(f):\n",
    "    def wrapper(*args, **kwargs):\n",
    "        start_time = time.time()\n",
    "\n",
    "        # 'args' is a tuple fo positional arguments\n",
    "        # 'kwargs' is a dictionary of keyword arguments\n",
    "        result = f(*args, **kwargs)\n",
    "\n",
    "        stop_time = time.time()\n",
    "        dt = stop_time - start_time\n",
    "        print(f\"∆t = {dt}\")\n",
    "\n",
    "        return result\n",
    "\n",
    "    return wrapper\n",
    "\n",
    "\n",
    "# @timer\n",
    "def prime_factorization(n):\n",
    "    \"\"\"Computes the prime factorization of a positive integer\"\"\"\n",
    "    # start_time = time.time()\n",
    "\n",
    "    factors = []\n",
    "    divisor = 2\n",
    "\n",
    "    while n > 1:\n",
    "        while n % divisor == 0:\n",
    "            factors.append(divisor)\n",
    "            n //= divisor  # floor division\n",
    "        divisor += 1\n",
    "\n",
    "    # stop_time = time.time()\n",
    "    # print(f\"∆t = {stop_time - start_time}\")\n",
    "    return factors\n",
    "\n",
    "\n",
    "integers = [2**20 + 1, 2**23 + 1, 2**29 + 1, 2**32 + 1]\n",
    "for n in integers:\n",
    "    factorization = prime_factorization(n)\n",
    "    print(f\"Prime factorization of {n} = {factorization}\")\n",
    "    print(\"-\" * 20)\n",
    "\n",
    "# for n in integers:\n",
    "#     prime_factorization_timer = timer(prime_factorization)\n",
    "#     factorization = prime_factorization_timer(n)\n",
    "#     print(f\"Prime factorization of {n} = {factorization}\")\n",
    "#     print(\"-\" * 20)"
   ]
  },
  {
   "attachments": {},
   "cell_type": "markdown",
   "metadata": {},
   "source": [
    "<pre>\n",
    "def decorator_demo(func):\n",
    "    def inner_funciton(*args, **kwargs):\n",
    "        ~~~ Write Code ~~~\n",
    "    return inner_function\n",
    "\n",
    "@decorator_demo\n",
    "def f(x):\n",
    "    ~~~ Some Code ~~~\n",
    "\n",
    "decorator_demo(f)(x)\n",
    "\n",
    "f = decorator_demo(f)\n",
    "f(x)\n",
    "</pre>\n"
   ]
  },
  {
   "cell_type": "code",
   "execution_count": 6,
   "metadata": {},
   "outputs": [
    {
     "name": "stdout",
     "output_type": "stream",
     "text": [
      "args = ('a', 2, None)\n",
      "kwargs = {'x': 3, 'y': 6, 'z': 9}\n",
      "alpha\n",
      "A function for viewing arguments.\n"
     ]
    }
   ],
   "source": [
    "from functools import wraps\n",
    "\n",
    "\n",
    "def do_nothing(f):\n",
    "    @wraps(f)\n",
    "    def inner(*args, **kwargs):\n",
    "        \"\"\"A function doing nothing.\"\"\"\n",
    "        return f(*args, **kwargs)\n",
    "\n",
    "    return inner\n",
    "\n",
    "\n",
    "@do_nothing\n",
    "def alpha(*args, **kwargs):\n",
    "    \"\"\"A function for viewing arguments.\"\"\"\n",
    "    print(f\"args = {args}\")\n",
    "    print(f\"kwargs = {kwargs}\")\n",
    "\n",
    "\n",
    "alpha(\"a\", 2, None, x=3, y=6, z=9)\n",
    "\n",
    "print(alpha.__name__)\n",
    "print(alpha.__doc__)"
   ]
  },
  {
   "cell_type": "code",
   "execution_count": 7,
   "metadata": {},
   "outputs": [
    {
     "name": "stdout",
     "output_type": "stream",
     "text": [
      "∆t = 9.5367431640625e-07\n",
      "The 1 term of fibonacci is 1\n",
      "∆t = 3.0994415283203125e-06\n",
      "The 2 term of fibonacci is 1\n",
      "∆t = 2.86102294921875e-06\n",
      "The 3 term of fibonacci is 2\n",
      "∆t = 1.6689300537109375e-06\n",
      "The 4 term of fibonacci is 3\n",
      "∆t = 1.9073486328125e-06\n",
      "The 5 term of fibonacci is 5\n",
      "∆t = 3.814697265625e-06\n",
      "The 6 term of fibonacci is 8\n",
      "∆t = 6.9141387939453125e-06\n",
      "The 7 term of fibonacci is 13\n",
      "∆t = 1.0967254638671875e-05\n",
      "The 8 term of fibonacci is 21\n",
      "∆t = 2.5033950805664062e-05\n",
      "The 9 term of fibonacci is 34\n",
      "∆t = 4.029273986816406e-05\n",
      "The 10 term of fibonacci is 55\n",
      "∆t = 6.890296936035156e-05\n",
      "The 11 term of fibonacci is 89\n",
      "∆t = 0.00012111663818359375\n",
      "The 12 term of fibonacci is 144\n",
      "∆t = 0.00010704994201660156\n",
      "The 13 term of fibonacci is 233\n",
      "∆t = 0.00018787384033203125\n",
      "The 14 term of fibonacci is 377\n",
      "∆t = 0.00045013427734375\n",
      "The 15 term of fibonacci is 610\n",
      "∆t = 0.0004069805145263672\n",
      "The 16 term of fibonacci is 987\n",
      "∆t = 0.0007407665252685547\n",
      "The 17 term of fibonacci is 1597\n",
      "∆t = 0.001461029052734375\n",
      "The 18 term of fibonacci is 2584\n",
      "∆t = 0.0017001628875732422\n",
      "The 19 term of fibonacci is 4181\n",
      "∆t = 0.003523111343383789\n",
      "The 20 term of fibonacci is 6765\n",
      "∆t = 0.005545139312744141\n",
      "The 21 term of fibonacci is 10946\n",
      "∆t = 0.00705409049987793\n",
      "The 22 term of fibonacci is 17711\n",
      "∆t = 0.012450933456420898\n",
      "The 23 term of fibonacci is 28657\n",
      "∆t = 0.022079944610595703\n",
      "The 24 term of fibonacci is 46368\n",
      "∆t = 0.030070066452026367\n",
      "The 25 term of fibonacci is 75025\n",
      "∆t = 0.04535484313964844\n",
      "The 26 term of fibonacci is 121393\n",
      "∆t = 0.07344579696655273\n",
      "The 27 term of fibonacci is 196418\n",
      "∆t = 0.13674497604370117\n",
      "The 28 term of fibonacci is 317811\n",
      "∆t = 0.2834279537200928\n",
      "The 29 term of fibonacci is 514229\n",
      "∆t = 0.31977081298828125\n",
      "The 30 term of fibonacci is 832040\n",
      "∆t = 0.47495293617248535\n",
      "The 31 term of fibonacci is 1346269\n",
      "∆t = 0.769946813583374\n",
      "The 32 term of fibonacci is 2178309\n"
     ]
    }
   ],
   "source": [
    "# Memoization: Cache function calls for future reuse\n",
    "from functools import cache\n",
    "\n",
    "\n",
    "# @timer\n",
    "# @cache\n",
    "def fibonacci(n):\n",
    "    if not isinstance(n, int) or n < 1:\n",
    "        raise ValueError(f\"{n} is not a positive integer!\")\n",
    "\n",
    "    if n == 1 or n == 2:\n",
    "        return 1\n",
    "    else:\n",
    "        return fibonacci(n - 2) + fibonacci(n - 1)\n",
    "\n",
    "\n",
    "# for i in range(1, 10):\n",
    "#     print(fibonacci(i))\n",
    "\n",
    "\n",
    "@timer\n",
    "def global_fibonacci(n):\n",
    "    return fibonacci(n)\n",
    "\n",
    "\n",
    "for n in range(1, 33):\n",
    "    nth_term = global_fibonacci(n)\n",
    "    print(f\"The {n} term of fibonacci is {nth_term}\")"
   ]
  },
  {
   "attachments": {},
   "cell_type": "markdown",
   "metadata": {},
   "source": [
    "<pre>\n",
    "def wrapper(f):\n",
    "    def inner(*args, **kwargs):\n",
    "    # Addtional features\n",
    "    return f(*args, **kwargs)\n",
    "\n",
    "@wrapper\n",
    "def any():\n",
    "    # Some code\n",
    "</pre>\n"
   ]
  },
  {
   "cell_type": "code",
   "execution_count": 9,
   "metadata": {},
   "outputs": [
    {
     "name": "stdout",
     "output_type": "stream",
     "text": [
      "Decorator arguments: hello, 123\n",
      "Hello John\n"
     ]
    }
   ],
   "source": [
    "# Python decorators can accept arguments\n",
    "def my_decorator_with_args(arg1, arg2):\n",
    "    def my_decorator(func):\n",
    "        def wrapper(*args, **kwargs):\n",
    "            print(f\"Decorator arguments: {arg1}, {arg2}\")\n",
    "            func(*args, **kwargs)\n",
    "\n",
    "        return wrapper\n",
    "\n",
    "    return my_decorator\n",
    "\n",
    "\n",
    "# @my_decorator_with_args(\"hello\", 123)\n",
    "def say_hello(name):\n",
    "    print(f\"Hello {name}\")\n",
    "\n",
    "\n",
    "say_hello = my_decorator_with_args(\"hello\", 123)(say_hello)\n",
    "\n",
    "say_hello(\"John\")"
   ]
  }
 ],
 "metadata": {
  "kernelspec": {
   "display_name": "Python 3",
   "language": "python",
   "name": "python3"
  },
  "language_info": {
   "codemirror_mode": {
    "name": "ipython",
    "version": 3
   },
   "file_extension": ".py",
   "mimetype": "text/x-python",
   "name": "python",
   "nbconvert_exporter": "python",
   "pygments_lexer": "ipython3",
   "version": "3.9.13"
  },
  "orig_nbformat": 4
 },
 "nbformat": 4,
 "nbformat_minor": 2
}
