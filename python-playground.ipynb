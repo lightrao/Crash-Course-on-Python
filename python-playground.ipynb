{
 "cells": [
  {
   "cell_type": "code",
   "execution_count": 1,
   "metadata": {},
   "outputs": [],
   "source": [
    "# JSON: Javascript Object Notation"
   ]
  },
  {
   "cell_type": "code",
   "execution_count": 2,
   "metadata": {},
   "outputs": [],
   "source": [
    "# JSON and Python dictionary are both ways to store data in key-value pairs\n",
    "\n",
    "# JSON vs python_dictionary:\n",
    "# true, false vs True, False\n",
    "# null vs None"
   ]
  },
  {
   "cell_type": "code",
   "execution_count": null,
   "metadata": {},
   "outputs": [],
   "source": [
    "# JSON (JavaScript Object Notation) and Python dictionaries are indeed both sets of key-value pairs,\n",
    "# but they have some differences in terms of the types of keys and values they support.\n",
    "\n",
    "# JSON:\n",
    "\n",
    "# 1. Keys: JSON keys must be strings.\n",
    "# 2. Values: JSON values can be strings, numbers (integer or floating-point),\n",
    "# booleans (true or false), null, objects (nested JSON), or arrays (ordered lists of values).\n",
    "\n",
    "# Python Dictionaries:\n",
    "\n",
    "# 1. Keys: Python dictionary keys can be any hashable data type, such as strings,\n",
    "# numbers (integers, floats), booleans, tuples (if they contain only hashable elements),\n",
    "# and even user-defined objects if they implement the required methods for hashing.\n",
    "# 2. Values: Python dictionary values can be any data type, including strings, numbers,\n",
    "# booleans, lists, sets, tuples, dictionaries, custom objects, and more.\n",
    "\n",
    "# In summary, JSON has stricter requirements for keys (must be strings) and supports a more\n",
    "# limited set of data types for values compared to Python dictionaries."
   ]
  },
  {
   "cell_type": "code",
   "execution_count": null,
   "metadata": {},
   "outputs": [],
   "source": [
    "# A hashable object in Python is an object that has a fixed hash value that does not change during its\n",
    "# lifetime, and can be compared to other objects using the __eq__ or __cmp__ methods. Hashable objects\n",
    "# are useful for storing keys in dictionaries or elements in sets, because they can be quickly looked\n",
    "# up using their hash values. Some examples of hashable objects in Python are integers, strings, tuples,\n",
    "# and functions. Some examples of non-hashable objects are lists, dictionaries, and sets.\n",
    "\n",
    "# To make an object hashable, you need to define the __hash__ method that returns an integer value\n",
    "# based on the object’s attributes, and the __eq__ or __cmp__ method that returns True or False when\n",
    "# comparing two objects of the same class. The __hash__ method should be consistent with the __eq__ or\n",
    "# __cmp__ method, meaning that if two objects are equal, they should have the same hash value. You can\n",
    "# also use the @functools.lru_cache decorator to make a function hashable by caching its return values\n",
    "# based on its arguments."
   ]
  },
  {
   "cell_type": "code",
   "execution_count": 3,
   "metadata": {},
   "outputs": [],
   "source": [
    "# JSON vs XML\n",
    "# XML have larger size due to the end tags repeating the text of opening tags"
   ]
  },
  {
   "cell_type": "code",
   "execution_count": 4,
   "metadata": {},
   "outputs": [],
   "source": [
    "import json\n",
    "\n",
    "# dir(json)\n",
    "\n",
    "# json.load(f): Load JSON data from file(or file-like object)\n",
    "# json.loads(s): Load JSON data from a string\n",
    "# json.dump(j, f): Write JSON object(dict) to file(or file-like object)\n",
    "# json.dumps(j): Output JSON object(dict) as string"
   ]
  },
  {
   "cell_type": "code",
   "execution_count": 5,
   "metadata": {},
   "outputs": [
    {
     "name": "stdout",
     "output_type": "stream",
     "text": [
      "<class 'dict'>\n",
      "{'title': 'Gattaca', 'release_year': 1997, 'is awesome': True, 'won oscar': False, 'actors': ['Ethan Hawke', 'Uma Thurman', 'Alan Arkin', 'Loren Dean'], 'budget': None, 'credits': {'director': 'Andrew Niccol', 'writer': 'Andrew Niccol', 'composer': 'Michael Nyman', 'cinematographer': 'Sławomir Idziak'}}\n",
      "Gattaca\n",
      "['Ethan Hawke', 'Uma Thurman', 'Alan Arkin', 'Loren Dean']\n",
      "1997\n"
     ]
    }
   ],
   "source": [
    "json_file = open(\"./Gattaca.txt\", \"r\", encoding=\"utf-8\")\n",
    "movie = json.load(json_file)\n",
    "json_file.close()\n",
    "\n",
    "print(type(movie))\n",
    "print(movie)\n",
    "print(movie[\"title\"])\n",
    "print(movie[\"actors\"])\n",
    "print(movie[\"release_year\"])"
   ]
  },
  {
   "cell_type": "code",
   "execution_count": 6,
   "metadata": {},
   "outputs": [
    {
     "name": "stdout",
     "output_type": "stream",
     "text": [
      "<class 'dict'>\n",
      "{'title': 'Gattaca', 'release_year': 1997, 'is awesome': True, 'won oscar': False, 'actors': ['Ethan Hawke', 'Uma Thurman', 'Alan Arkin', 'Loren Dean'], 'budget': None, 'credits': {'director': 'Andrew Niccol', 'writer': 'Andrew Niccol', 'composer': 'Michael Nyman', 'cinematographer': 'Sławomir Idziak'}}\n",
      "<class 'str'>\n",
      "{\"title\": \"Gattaca\", \"release_year\": 1997, \"is awesome\": true, \"won oscar\": false, \"actors\": [\"Ethan Hawke\", \"Uma Thurman\", \"Alan Arkin\", \"Loren Dean\"], \"budget\": null, \"credits\": {\"director\": \"Andrew Niccol\", \"writer\": \"Andrew Niccol\", \"composer\": \"Michael Nyman\", \"cinematographer\": \"S\\u0142awomir Idziak\"}}\n",
      "{\"title\": \"Gattaca\", \"release_year\": 1997, \"is awesome\": true, \"won oscar\": false, \"actors\": [\"Ethan Hawke\", \"Uma Thurman\", \"Alan Arkin\", \"Loren Dean\"], \"budget\": null, \"credits\": {\"director\": \"Andrew Niccol\", \"writer\": \"Andrew Niccol\", \"composer\": \"Michael Nyman\", \"cinematographer\": \"Sławomir Idziak\"}}\n"
     ]
    }
   ],
   "source": [
    "print(type(movie))\n",
    "print(movie)\n",
    "print(type(json.dumps(movie)))\n",
    "print(json.dumps(movie))\n",
    "print(json.dumps(movie, ensure_ascii=False))"
   ]
  },
  {
   "cell_type": "code",
   "execution_count": 7,
   "metadata": {},
   "outputs": [
    {
     "name": "stdout",
     "output_type": "stream",
     "text": [
      "<class 'dict'>\n",
      "{'title': 'Tron: Legacy', 'composer': 'Daft Punk', 'release_year': 2010, 'budget': 170000000, 'actors': None, 'won_oscar': False}\n"
     ]
    }
   ],
   "source": [
    "value = \"\"\"\n",
    "{\n",
    "  \"title\": \"Tron: Legacy\",\n",
    "  \"composer\": \"Daft Punk\",\n",
    "  \"release_year\": 2010,\n",
    "  \"budget\": 170000000,\n",
    "  \"actors\": null,\n",
    "  \"won_oscar\": false\n",
    "}\n",
    "\"\"\"\n",
    "tron = json.loads(value)\n",
    "print(type(tron))\n",
    "print(tron)"
   ]
  },
  {
   "cell_type": "code",
   "execution_count": 8,
   "metadata": {},
   "outputs": [
    {
     "name": "stdout",
     "output_type": "stream",
     "text": [
      "<class 'dict'>\n",
      "{'title': 'Minority Report', 'director': 'Steven Spielberg', 'composer': 'John Williams', 'actors': ['Tom Cruise', 'Colin Farrell', 'Samantha Morton', 'Max von Sydow'], 'is_awesome': True, 'budget': 102000000, 'cinematographer': 'Janusz Kamiński'}\n"
     ]
    }
   ],
   "source": [
    "movie2 = {}\n",
    "movie2[\"title\"] = \"Minority Report\"\n",
    "movie2[\"director\"] = \"Steven Spielberg\"\n",
    "movie2[\"composer\"] = \"John Williams\"\n",
    "movie2[\"actors\"] = [\"Tom Cruise\", \"Colin Farrell\", \"Samantha Morton\", \"Max von Sydow\"]\n",
    "movie2[\"is_awesome\"] = True\n",
    "movie2[\"budget\"] = 102000000\n",
    "movie2[\"cinematographer\"] = \"Janusz Kami\\u0144ski\"\n",
    "print(type(movie2))\n",
    "print(movie2)\n",
    "\n",
    "file2 = open(\"./Minority_Report.txt\", \"w\", encoding=\"utf-8\")\n",
    "json.dump(movie2, file2, ensure_ascii=False)\n",
    "file2.close()"
   ]
  }
 ],
 "metadata": {
  "kernelspec": {
   "display_name": "Python 3",
   "language": "python",
   "name": "python3"
  },
  "language_info": {
   "codemirror_mode": {
    "name": "ipython",
    "version": 3
   },
   "file_extension": ".py",
   "mimetype": "text/x-python",
   "name": "python",
   "nbconvert_exporter": "python",
   "pygments_lexer": "ipython3",
   "version": "3.9.13"
  },
  "orig_nbformat": 4
 },
 "nbformat": 4,
 "nbformat_minor": 2
}
