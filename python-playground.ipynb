{
 "cells": [
  {
   "cell_type": "code",
   "execution_count": 43,
   "metadata": {},
   "outputs": [],
   "source": [
    "# SQLite is a database engine in every phone and computer.\n",
    "# Popular language have SQLite API"
   ]
  },
  {
   "attachments": {},
   "cell_type": "markdown",
   "metadata": {},
   "source": [
    "<table>\n",
    "  <tr>\n",
    "    <th>SQLite Data Types</th>\n",
    "    <th>Python equivalent</th>\n",
    "  </tr>\n",
    "  <tr>\n",
    "    <td>INEGER</td>\n",
    "    <td>INT</td>    \n",
    "  </tr>\n",
    "  <tr>\n",
    "    <td>REAL</td>\n",
    "    <td>FLOAT</td>    \n",
    "  </tr>\n",
    "  <tr>\n",
    "    <td>TEXT</td>\n",
    "    <td>STRING</td>    \n",
    "  </tr>\n",
    "  <tr>\n",
    "    <td>BLOB</td>\n",
    "    <td>BYTES</td>    \n",
    "  </tr>\n",
    "  <tr>\n",
    "    <td>NULL</td>\n",
    "    <td>NONE</td>    \n",
    "  </tr>\n",
    "</table>\n"
   ]
  },
  {
   "cell_type": "code",
   "execution_count": 44,
   "metadata": {},
   "outputs": [],
   "source": [
    "import sqlite3\n",
    "\n",
    "# Connect to a (new) database\n",
    "conn = sqlite3.connect(\"./DB/alpha.db\")\n",
    "\n",
    "# Create a cursor\n",
    "cur = conn.cursor()\n",
    "\n",
    "# Create a 'people' table\n",
    "# cur.execute(), you need to call conn.commit() after executing your statement to commit the changes made to the database\n",
    "cur.execute(\"\"\"CREATE TABLE IF NOT EXISTS people (first_name TEXT, last_name TEXT)\"\"\")\n",
    "conn.commit()\n",
    "\n",
    "# conn.execute(), you do not need to call conn.commit() as the changes are automatically committed to the database.\n",
    "# conn.execute(\"\"\"CREATE TABLE IF NOT EXISTS people (first_name TEXT, last_name TEXT)\"\"\")\n",
    "\n",
    "# Test data\n",
    "famous_people = [\n",
    "    (\"Albert\", \"Einstein\"),\n",
    "    (\"Isaac\", \"Newton\"),\n",
    "    (\"Marie\", \"Curie\"),\n",
    "    (\"Charles\", \"Darwin\"),\n",
    "    (\"Nikola\", \"Tesla\"),\n",
    "]\n",
    "\n",
    "# Insert data into data base\n",
    "cur.executemany(\n",
    "    \"\"\"INSERT INTO people (first_name, last_name) VALUES (?,?)\"\"\", famous_people\n",
    ")\n",
    "conn.commit()\n",
    "\n",
    "# Close the cursor\n",
    "cur.close()\n",
    "\n",
    "# Close connection\n",
    "conn.close()"
   ]
  },
  {
   "cell_type": "code",
   "execution_count": 45,
   "metadata": {},
   "outputs": [
    {
     "name": "stdout",
     "output_type": "stream",
     "text": [
      "(5, 'Ryan', 'Bennett')\n",
      "(1, 'Steve', 'Coplan')\n",
      "(4, 'Robert', 'Culling')\n",
      "(3, 'Ben', 'Shew')\n",
      "(2, 'Shawn', 'Verzilli')\n"
     ]
    }
   ],
   "source": [
    "# Connect to or create SQLite database\n",
    "conn = sqlite3.connect(\"./DB/members.db\")\n",
    "cur = conn.cursor()\n",
    "\n",
    "# # Load SQL script from file\n",
    "# with open(\"./DB/test.sql\") as file:\n",
    "#     sql_script = file.read()\n",
    "\n",
    "# # Excecute script\n",
    "# cur.executescript(sql_script)\n",
    "\n",
    "# Display data\n",
    "# member_data = cur.execute(\"SELECT * FROM members ORDER BY ln\")\n",
    "# # print(member_data)\n",
    "# for row in member_data:\n",
    "#     print(row)\n",
    "\n",
    "# print(cur)\n",
    "# print(member_data)\n",
    "\n",
    "cur.execute(\"SELECT * FROM members ORDER BY ln\")\n",
    "for member in cur:\n",
    "    print(member)\n",
    "\n",
    "# It's closing time\n",
    "cur.close()\n",
    "conn.close()"
   ]
  },
  {
   "cell_type": "code",
   "execution_count": 46,
   "metadata": {},
   "outputs": [
    {
     "name": "stdout",
     "output_type": "stream",
     "text": [
      "(3, 'Ben', 'Shew')\n"
     ]
    }
   ],
   "source": [
    "# SQL injection attacks\n",
    "user_input = \"Ben\"\n",
    "# user_input = \"' OR 1=1 --\"\n",
    "# sql = f\"SELECT * FROM members WHERE fn='{user_input}'\"\n",
    "# print(sql)\n",
    "\n",
    "# Connect to or create SQLite database\n",
    "conn = sqlite3.connect(\"./DB/members.db\")\n",
    "cur = conn.cursor()\n",
    "\n",
    "# Display data\n",
    "# cur.execute(sql)\n",
    "\n",
    "# Safe: placeholders prevent SQL injection\n",
    "# By using placeholders, the malicious SQL is escaped and treated as a raw string, not as actual SQL code.\n",
    "cur.execute(\"SELECT * FROM members WHERE fn=?\", (user_input,))\n",
    "for member in cur:\n",
    "    print(member)\n",
    "\n",
    "# It's closing time\n",
    "cur.close()\n",
    "conn.close()"
   ]
  },
  {
   "attachments": {},
   "cell_type": "markdown",
   "metadata": {},
   "source": [
    "<pre>\n",
    "# Essential features of SQLite in Python are:\n",
    "import sqlite3\n",
    "\n",
    "conn = sqlite3.connect(filepath) # Connect or create database\n",
    "cursor = conn.cursor()\n",
    "\n",
    "# Execute queries first method\n",
    "results = cursor.execute(query, parameters)\n",
    "# or\n",
    "results = cursor.executemany(query, parameters)\n",
    "# or\n",
    "results = cursor.executescript(script_as_string)\n",
    "\n",
    "# when you use cur.execute(), you need to call conn.commit() after executing your statement \n",
    "# to commit the changes made to the database.\n",
    "# READ database do not need conn.commit(), but UPDATE, CREATE, DELETE need to call conn.commit()\n",
    "conn.commit()\n",
    "\n",
    "# Execute queries second method\n",
    "results = conn.execute(query, parameters)\n",
    "# or\n",
    "results = conn.executemany(query, parameters)\n",
    "# or\n",
    "results = conn.executescript(script_as_string)\n",
    "\n",
    "# when you use conn.execute(), you do not need to call conn.commit() as \n",
    "# the changes are automatically committed to the database\n",
    "\n",
    "\n",
    "# It's closing time\n",
    "cur.close()\n",
    "conn.close()\n",
    "</pre>\n"
   ]
  },
  {
   "cell_type": "code",
   "execution_count": 47,
   "metadata": {},
   "outputs": [
    {
     "name": "stdout",
     "output_type": "stream",
     "text": [
      "('2006-01-05', 'BUY', 'RHAT', 100.0, 35.14)\n",
      "('2006-01-05', 'BUY', 'RHAT', 200.0, 35.14)\n"
     ]
    }
   ],
   "source": [
    "# Create a connection object that represents the database\n",
    "conn = sqlite3.connect(\"./DB/stocks.db\")\n",
    "\n",
    "# Create a cursor object that will help you execute all the SQL statements\n",
    "c = conn.cursor()\n",
    "\n",
    "# Create a table\n",
    "c.execute(\n",
    "    \"\"\"CREATE TABLE IF NOT EXISTS stocks (date text, trans text, symbol text, qty real, price real)\"\"\"\n",
    ")\n",
    "\n",
    "# Insert data into the table\n",
    "c.execute(\"INSERT INTO stocks VALUES ('2006-01-05','BUY','RHAT',100,35.14)\")\n",
    "\n",
    "# Read data from the table\n",
    "for row in c.execute(\"SELECT * FROM stocks ORDER BY price\"):\n",
    "    print(row)\n",
    "\n",
    "# Update data in the table\n",
    "c.execute(\"UPDATE stocks SET qty = 200 WHERE symbol = 'RHAT'\")\n",
    "for row in c.execute(\"SELECT * FROM stocks ORDER BY price\"):\n",
    "    print(row)\n",
    "\n",
    "# Delete data from the table\n",
    "c.execute(\"DELETE FROM stocks WHERE symbol = 'RHAT'\")\n",
    "for row in c.execute(\"SELECT * FROM stocks ORDER BY price\"):\n",
    "    print(row)\n",
    "\n",
    "# Commit your changes to the database\n",
    "conn.commit()\n",
    "\n",
    "# Close the cursor and connection objects\n",
    "c.close()\n",
    "conn.close()"
   ]
  }
 ],
 "metadata": {
  "kernelspec": {
   "display_name": "Python 3",
   "language": "python",
   "name": "python3"
  },
  "language_info": {
   "codemirror_mode": {
    "name": "ipython",
    "version": 3
   },
   "file_extension": ".py",
   "mimetype": "text/x-python",
   "name": "python",
   "nbconvert_exporter": "python",
   "pygments_lexer": "ipython3",
   "version": "3.9.13"
  },
  "orig_nbformat": 4
 },
 "nbformat": 4,
 "nbformat_minor": 2
}
