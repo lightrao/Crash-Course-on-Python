{
 "cells": [
  {
   "cell_type": "code",
   "execution_count": 48,
   "metadata": {},
   "outputs": [
    {
     "name": "stdout",
     "output_type": "stream",
     "text": [
      "<class 'list'>\n",
      "<class 'list'>\n"
     ]
    }
   ],
   "source": [
    "# Lists in Python are sequences of objects that can be used to store and retrieve data\n",
    "# Two way to create list\n",
    "list_example = list()\n",
    "print(type(list_example))\n",
    "list_example2 = []\n",
    "print(type(list_example2))"
   ]
  },
  {
   "cell_type": "code",
   "execution_count": 49,
   "metadata": {},
   "outputs": [
    {
     "name": "stdout",
     "output_type": "stream",
     "text": [
      "[2, 3, 5, 7, 11, 13]\n",
      "[2, 3, 5, 7, 11, 13, 17, 19]\n",
      "2 3\n",
      "19 17\n",
      "2\n"
     ]
    }
   ],
   "source": [
    "primes = [\n",
    "    2,\n",
    "    3,\n",
    "    5,\n",
    "    7,\n",
    "    11,\n",
    "    13,\n",
    "]  # order matter, pre-populate list with value when creating it\n",
    "print(primes)\n",
    "primes.append(17)  # add new value to the end of the list\n",
    "primes.append(19)\n",
    "print(primes)\n",
    "print(\n",
    "    primes[0], primes[1]\n",
    ")  # order matter, access list element with index which begin with 0\n",
    "print(\n",
    "    primes[-1], primes[-2]\n",
    ")  # wraps back around to the end of the list, the last item index is -1\n",
    "print(\n",
    "    primes[-8]\n",
    ")  # beginning of the list with index -8, you can only wrap back around once"
   ]
  },
  {
   "cell_type": "code",
   "execution_count": 50,
   "metadata": {},
   "outputs": [
    {
     "name": "stdout",
     "output_type": "stream",
     "text": [
      "[2, 3, 5, 7, 11, 13, 17, 19]\n",
      "[5, 7, 11]\n",
      "[2, 3, 5, 7, 11, 13, 17, 19]\n"
     ]
    }
   ],
   "source": [
    "# slicing: retrieve a range of values from list\n",
    "print(primes)\n",
    "print(primes[2:5])  # include starting, excludes ending\n",
    "print(primes[0 : len(primes)])"
   ]
  },
  {
   "cell_type": "code",
   "execution_count": 51,
   "metadata": {},
   "outputs": [
    {
     "name": "stdout",
     "output_type": "stream",
     "text": [
      "[128, True, 'Alpha', 1.732, [64, False]]\n",
      "[1, 1, 2, 2, 3, 3]\n"
     ]
    }
   ],
   "source": [
    "# python list can contain multiple data types\n",
    "multitype_list = [128, True, \"Alpha\", 1.732, [64, False]]\n",
    "print(multitype_list)\n",
    "# list can also contain duplicate value\n",
    "duplicate_list = [1, 1, 2, 2, 3, 3]\n",
    "print(duplicate_list)"
   ]
  },
  {
   "cell_type": "code",
   "execution_count": 52,
   "metadata": {},
   "outputs": [
    {
     "name": "stdout",
     "output_type": "stream",
     "text": [
      "[1, 2, 3, 'a', 'b', 'c']\n",
      "['a', 'b', 'c', 1, 2, 3]\n",
      "[1, 2, 3] ['a', 'b', 'c']\n"
     ]
    }
   ],
   "source": [
    "# concatenation\n",
    "numbers = [1, 2, 3]\n",
    "letters = [\"a\", \"b\", \"c\"]\n",
    "# combine these two lists into a single list\n",
    "combine_list = numbers + letters\n",
    "print(combine_list)\n",
    "# order matters\n",
    "combine_list2 = letters + numbers\n",
    "print(combine_list2)\n",
    "# original list are unchanged\n",
    "print(numbers, letters)"
   ]
  },
  {
   "cell_type": "code",
   "execution_count": 54,
   "metadata": {},
   "outputs": [
    {
     "name": "stdout",
     "output_type": "stream",
     "text": [
      "Help on built-in function reverse:\n",
      "\n",
      "reverse() method of builtins.list instance\n",
      "    Reverse *IN PLACE*.\n",
      "\n",
      "[1, 2, 3]\n",
      "[3, 2, 1]\n"
     ]
    }
   ],
   "source": [
    "# list object have many method\n",
    "help(numbers.reverse)\n",
    "print(numbers)\n",
    "numbers.reverse()\n",
    "print(numbers)"
   ]
  }
 ],
 "metadata": {
  "kernelspec": {
   "display_name": "Python 3",
   "language": "python",
   "name": "python3"
  },
  "language_info": {
   "codemirror_mode": {
    "name": "ipython",
    "version": 3
   },
   "file_extension": ".py",
   "mimetype": "text/x-python",
   "name": "python",
   "nbconvert_exporter": "python",
   "pygments_lexer": "ipython3",
   "version": "3.9.13"
  },
  "orig_nbformat": 4
 },
 "nbformat": 4,
 "nbformat_minor": 2
}
