{
 "cells": [
  {
   "attachments": {},
   "cell_type": "markdown",
   "metadata": {},
   "source": [
    "<table style=\"width:90%\">\n",
    "  <tr>\n",
    "    <th>Generators</th>\n",
    "    <th>Iterators</th>    \n",
    "  </tr>\n",
    "  <tr>\n",
    "    <td>Functions that act like iterators</td>\n",
    "    <td>Loops over collection of objects in memory</td>    \n",
    "  </tr>\n",
    "  <tr>\n",
    "    <td>\"Generate\" the elements in a loop</td>\n",
    "    <td></td>    \n",
    "  </tr>  \n",
    "  <tr>\n",
    "    <td>\"On demand\" iterable objects to loop over</td>\n",
    "    <td></td>    \n",
    "  </tr>    \n",
    "</table>\n"
   ]
  },
  {
   "cell_type": "code",
   "execution_count": 16,
   "metadata": {},
   "outputs": [
    {
     "name": "stdout",
     "output_type": "stream",
     "text": [
      "1\n"
     ]
    }
   ],
   "source": [
    "def f():\n",
    "    return 1  # exits f()\n",
    "    return 2\n",
    "    return 3\n",
    "\n",
    "\n",
    "print(f())"
   ]
  },
  {
   "cell_type": "code",
   "execution_count": 17,
   "metadata": {},
   "outputs": [
    {
     "name": "stdout",
     "output_type": "stream",
     "text": [
      "<generator object g at 0x10a3ea660>\n",
      "1\n",
      "2\n",
      "3\n"
     ]
    }
   ],
   "source": [
    "def g():\n",
    "    yield 1\n",
    "    yield 2\n",
    "    yield 3\n",
    "\n",
    "\n",
    "print(g())  # a generator is a type of iterator\n",
    "\n",
    "for x in g():\n",
    "    print(x)"
   ]
  },
  {
   "cell_type": "code",
   "execution_count": 18,
   "metadata": {},
   "outputs": [
    {
     "name": "stdout",
     "output_type": "stream",
     "text": [
      "a\n",
      "b\n",
      "c\n",
      "d\n",
      "e\n",
      "f\n",
      "g\n",
      "h\n",
      "i\n",
      "j\n",
      "k\n",
      "l\n",
      "m\n",
      "n\n",
      "o\n",
      "p\n",
      "q\n",
      "r\n",
      "s\n",
      "t\n",
      "u\n",
      "v\n",
      "w\n",
      "x\n",
      "y\n",
      "z\n"
     ]
    }
   ],
   "source": [
    "# A function that yeilds each lower-case letter in english alphabet\n",
    "import string\n",
    "\n",
    "\n",
    "def letters():\n",
    "    for c in string.ascii_lowercase:\n",
    "        yield c\n",
    "\n",
    "\n",
    "for letter in letters():\n",
    "    print(letter)"
   ]
  },
  {
   "cell_type": "code",
   "execution_count": 19,
   "metadata": {},
   "outputs": [],
   "source": [
    "# Generator Fuction(\"Generator\")\n",
    "# def function():\n",
    "#     yield <expression>"
   ]
  },
  {
   "attachments": {},
   "cell_type": "markdown",
   "metadata": {},
   "source": [
    "<pre>\n",
    "    def genX():\n",
    "        # Do something cool\n",
    "        yield &lt;value&gt;\n",
    "\n",
    "    for event in genX():\n",
    "        # Do something with event\n",
    " </pre>\n"
   ]
  },
  {
   "cell_type": "code",
   "execution_count": 20,
   "metadata": {},
   "outputs": [
    {
     "name": "stdout",
     "output_type": "stream",
     "text": [
      "2\n",
      "3\n",
      "5\n",
      "7\n",
      "11\n",
      "13\n",
      "17\n",
      "19\n"
     ]
    }
   ],
   "source": [
    "# Generator function that yeilds all the prime numbers\n",
    "import itertools\n",
    "\n",
    "\n",
    "def prime_numbers():\n",
    "    # Handle the first prime\n",
    "    yield 2\n",
    "    prime_cache = [2]  # Cache of primes\n",
    "\n",
    "    # Loop over positive, odd integers\n",
    "    for n in itertools.count(3, 2):\n",
    "        is_prime = True\n",
    "\n",
    "        # Check to see if any prime number divides in n\n",
    "        for p in prime_cache:\n",
    "            if n % p == 0:  # p divides n evenly\n",
    "                is_prime = False\n",
    "                break\n",
    "\n",
    "        # Is it prime?\n",
    "        if is_prime:\n",
    "            prime_cache.append(n)\n",
    "            yield n\n",
    "\n",
    "\n",
    "for p in prime_numbers():\n",
    "    if p > 20:\n",
    "        break\n",
    "    print(p)"
   ]
  },
  {
   "cell_type": "code",
   "execution_count": 21,
   "metadata": {},
   "outputs": [],
   "source": [
    "# Generator expression: ( Expression )\n",
    "# List Comprehension: [ expression ]"
   ]
  },
  {
   "cell_type": "code",
   "execution_count": 22,
   "metadata": {},
   "outputs": [
    {
     "name": "stdout",
     "output_type": "stream",
     "text": [
      "1\n",
      "4\n",
      "9\n",
      "16\n",
      "25\n",
      "36\n",
      "<class 'generator'>\n",
      "112\n"
     ]
    }
   ],
   "source": [
    "import sys\n",
    "\n",
    "# generate the squares of all positive integers\n",
    "squares = (x**2 for x in itertools.count(1, 1))\n",
    "\n",
    "for x in squares:\n",
    "    if x > 30:\n",
    "        squares.close()\n",
    "    print(x)\n",
    "\n",
    "print(type(squares))\n",
    "print(sys.getsizeof(squares))"
   ]
  },
  {
   "cell_type": "code",
   "execution_count": 23,
   "metadata": {},
   "outputs": [
    {
     "name": "stdout",
     "output_type": "stream",
     "text": [
      "1\n",
      "4\n",
      "9\n",
      "16\n",
      "25\n",
      "<class 'list'>\n",
      "312\n"
     ]
    }
   ],
   "source": [
    "squares2 = [x**2 for x in range(1, 31)]\n",
    "\n",
    "for x in squares2:\n",
    "    if x > 30:\n",
    "        break\n",
    "    print(x)\n",
    "\n",
    "print(type(squares2))\n",
    "print(sys.getsizeof(squares2))"
   ]
  }
 ],
 "metadata": {
  "kernelspec": {
   "display_name": "Python 3",
   "language": "python",
   "name": "python3"
  },
  "language_info": {
   "codemirror_mode": {
    "name": "ipython",
    "version": 3
   },
   "file_extension": ".py",
   "mimetype": "text/x-python",
   "name": "python",
   "nbconvert_exporter": "python",
   "pygments_lexer": "ipython3",
   "version": "3.9.13"
  },
  "orig_nbformat": 4
 },
 "nbformat": 4,
 "nbformat_minor": 2
}
