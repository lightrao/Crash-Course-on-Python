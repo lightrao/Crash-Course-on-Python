{
 "cells": [
  {
   "cell_type": "code",
   "execution_count": 49,
   "metadata": {},
   "outputs": [
    {
     "data": {
      "text/plain": [
       "['BPF',\n",
       " 'LOG4',\n",
       " 'NV_MAGICCONST',\n",
       " 'RECIP_BPF',\n",
       " 'Random',\n",
       " 'SG_MAGICCONST',\n",
       " 'SystemRandom',\n",
       " 'TWOPI',\n",
       " '_Sequence',\n",
       " '_Set',\n",
       " '__all__',\n",
       " '__builtins__',\n",
       " '__cached__',\n",
       " '__doc__',\n",
       " '__file__',\n",
       " '__loader__',\n",
       " '__name__',\n",
       " '__package__',\n",
       " '__spec__',\n",
       " '_accumulate',\n",
       " '_acos',\n",
       " '_bisect',\n",
       " '_ceil',\n",
       " '_cos',\n",
       " '_e',\n",
       " '_exp',\n",
       " '_floor',\n",
       " '_inst',\n",
       " '_log',\n",
       " '_os',\n",
       " '_pi',\n",
       " '_random',\n",
       " '_repeat',\n",
       " '_sha512',\n",
       " '_sin',\n",
       " '_sqrt',\n",
       " '_test',\n",
       " '_test_generator',\n",
       " '_urandom',\n",
       " '_warn',\n",
       " 'betavariate',\n",
       " 'choice',\n",
       " 'choices',\n",
       " 'expovariate',\n",
       " 'gammavariate',\n",
       " 'gauss',\n",
       " 'getrandbits',\n",
       " 'getstate',\n",
       " 'lognormvariate',\n",
       " 'normalvariate',\n",
       " 'paretovariate',\n",
       " 'randbytes',\n",
       " 'randint',\n",
       " 'random',\n",
       " 'randrange',\n",
       " 'sample',\n",
       " 'seed',\n",
       " 'setstate',\n",
       " 'shuffle',\n",
       " 'triangular',\n",
       " 'uniform',\n",
       " 'vonmisesvariate',\n",
       " 'weibullvariate']"
      ]
     },
     "execution_count": 49,
     "metadata": {},
     "output_type": "execute_result"
    }
   ],
   "source": [
    "import random\n",
    "\n",
    "dir(random)"
   ]
  },
  {
   "cell_type": "code",
   "execution_count": 50,
   "metadata": {},
   "outputs": [
    {
     "name": "stdout",
     "output_type": "stream",
     "text": [
      "Help on built-in function random:\n",
      "\n",
      "random() method of random.Random instance\n",
      "    random() -> x in the interval [0, 1).\n",
      "\n",
      "0.4737753703723072\n",
      "0.16053956978129147\n",
      "0.5744757772632455\n",
      "0.25161007369313027\n",
      "0.997406354307871\n",
      "0.152647601528349\n",
      "0.2621875158103766\n",
      "0.034428942652143024\n",
      "0.030014985499082658\n",
      "0.7758842669513107\n"
     ]
    }
   ],
   "source": [
    "help(random.random)\n",
    "# Display 10 random numbers from interval [0,1), Uniform Distribution.\n",
    "for _ in range(10):\n",
    "    print(random.random())"
   ]
  },
  {
   "cell_type": "code",
   "execution_count": 51,
   "metadata": {},
   "outputs": [
    {
     "name": "stdout",
     "output_type": "stream",
     "text": [
      "5.441599531888196\n",
      "4.3556852731772215\n",
      "6.083830841358058\n",
      "4.237309730815424\n",
      "4.6492582236385\n",
      "5.1137741500960345\n",
      "3.8739187197959346\n",
      "3.7830869476458076\n",
      "3.386801145042715\n",
      "5.2997715502359855\n"
     ]
    }
   ],
   "source": [
    "# Generate random numbers from interval [3,7)\n",
    "def my_random():\n",
    "    # Random, scale, shift, return ...\n",
    "    return 4 * random.random() + 3\n",
    "\n",
    "\n",
    "for _ in range(10):\n",
    "    print(my_random())"
   ]
  },
  {
   "cell_type": "code",
   "execution_count": 52,
   "metadata": {},
   "outputs": [
    {
     "name": "stdout",
     "output_type": "stream",
     "text": [
      "Help on method uniform in module random:\n",
      "\n",
      "uniform(a, b) method of random.Random instance\n",
      "    Get a random number in the range [a, b) or [a, b] depending on rounding.\n",
      "\n",
      "6.079690003362224\n",
      "2.8485307528104906\n",
      "4.817373085110843\n",
      "2.2704442056335337\n",
      "0.5791573385832072\n",
      "2.035017754689944\n",
      "2.3194551169233737\n",
      "4.188561565969247\n",
      "9.98318490353187\n",
      "0.2149955156594885\n"
     ]
    }
   ],
   "source": [
    "help(random.uniform)\n",
    "for _ in range(10):\n",
    "    print(random.uniform(0, 10))"
   ]
  },
  {
   "cell_type": "code",
   "execution_count": 53,
   "metadata": {},
   "outputs": [
    {
     "name": "stdout",
     "output_type": "stream",
     "text": [
      "Help on method normalvariate in module random:\n",
      "\n",
      "normalvariate(mu, sigma) method of random.Random instance\n",
      "    Normal distribution.\n",
      "    \n",
      "    mu is the mean, and sigma is the standard deviation.\n",
      "\n",
      "1.150023597920181\n",
      "0.33458927084389795\n",
      "-0.15569232706510952\n",
      "0.7447101531324029\n",
      "-0.4154930455113786\n",
      "-0.5987668058821154\n",
      "-1.5388608188036546\n",
      "1.0219842678663333\n",
      "2.2483213039719447\n",
      "0.16598244953495184\n"
     ]
    }
   ],
   "source": [
    "help(random.normalvariate)\n",
    "\n",
    "for _ in range(10):\n",
    "    print(random.normalvariate(0, 1))"
   ]
  },
  {
   "cell_type": "code",
   "execution_count": 54,
   "metadata": {},
   "outputs": [
    {
     "name": "stdout",
     "output_type": "stream",
     "text": [
      "Help on method randint in module random:\n",
      "\n",
      "randint(a, b) method of random.Random instance\n",
      "    Return random integer in range [a, b], including both end points.\n",
      "\n",
      "6\n",
      "4\n",
      "4\n",
      "6\n",
      "6\n",
      "2\n",
      "3\n",
      "2\n",
      "4\n",
      "6\n"
     ]
    }
   ],
   "source": [
    "# Discrete probability distributions\n",
    "# roll of 6-sided die\n",
    "help(random.randint)\n",
    "\n",
    "for _ in range(10):\n",
    "    print(random.randint(1, 6))"
   ]
  },
  {
   "cell_type": "code",
   "execution_count": 55,
   "metadata": {},
   "outputs": [
    {
     "name": "stdout",
     "output_type": "stream",
     "text": [
      "paper\n",
      "paper\n",
      "scissors\n",
      "rock\n",
      "scissors\n",
      "paper\n",
      "paper\n",
      "paper\n",
      "paper\n",
      "paper\n"
     ]
    }
   ],
   "source": [
    "# Random element from a list\n",
    "# rock, paper, scissors\n",
    "outcomes = [\"rock\", \"paper\", \"scissors\"]\n",
    "\n",
    "for _ in range(10):\n",
    "    print(random.choice(outcomes))"
   ]
  }
 ],
 "metadata": {
  "kernelspec": {
   "display_name": "Python 3",
   "language": "python",
   "name": "python3"
  },
  "language_info": {
   "codemirror_mode": {
    "name": "ipython",
    "version": 3
   },
   "file_extension": ".py",
   "mimetype": "text/x-python",
   "name": "python",
   "nbconvert_exporter": "python",
   "pygments_lexer": "ipython3",
   "version": "3.9.13"
  },
  "orig_nbformat": 4
 },
 "nbformat": 4,
 "nbformat_minor": 2
}
