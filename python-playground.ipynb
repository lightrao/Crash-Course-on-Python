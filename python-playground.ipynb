{
 "cells": [
  {
   "cell_type": "code",
   "execution_count": 45,
   "metadata": {},
   "outputs": [],
   "source": [
    "# XML: Extensible Markup Language\n",
    "# create, query, and store data using xml\n",
    "# import xml.etree.ElementTree as ET\n",
    "# print(help(ET))"
   ]
  },
  {
   "cell_type": "code",
   "execution_count": 46,
   "metadata": {},
   "outputs": [
    {
     "name": "stdout",
     "output_type": "stream",
     "text": [
      "C14NWriterTarget <class 'xml.etree.ElementTree.C14NWriterTarget'>\n",
      "Element <class 'xml.etree.ElementTree.Element'>\n",
      "ElementTree <class 'xml.etree.ElementTree.ElementTree'>\n",
      "ParseError <class 'xml.etree.ElementTree.ParseError'>\n",
      "QName <class 'xml.etree.ElementTree.QName'>\n",
      "TreeBuilder <class 'xml.etree.ElementTree.TreeBuilder'>\n",
      "XMLParser <class 'xml.etree.ElementTree.XMLParser'>\n",
      "XMLPullParser <class 'xml.etree.ElementTree.XMLPullParser'>\n"
     ]
    }
   ],
   "source": [
    "import xml.etree.ElementTree as ET\n",
    "from inspect import getmembers, isclass, isfunction\n",
    "\n",
    "# Display classes in ET module\n",
    "# getmembers returns a list of tuples. Each tuple contains the name and\n",
    "# the value of a member of the object.\n",
    "for name, member in getmembers(ET, isclass):\n",
    "    if not name.startswith(\"_\"):\n",
    "        print(name, member)"
   ]
  },
  {
   "cell_type": "code",
   "execution_count": 47,
   "metadata": {},
   "outputs": [
    {
     "name": "stdout",
     "output_type": "stream",
     "text": [
      "Comment <function Comment at 0x115efeaf0>\n",
      "PI <function ProcessingInstruction at 0x115efeb80>\n",
      "ProcessingInstruction <function ProcessingInstruction at 0x115efeb80>\n",
      "XML <function XML at 0x115f00430>\n",
      "XMLID <function XMLID at 0x115f00790>\n",
      "canonicalize <function canonicalize at 0x115f008b0>\n",
      "dump <function dump at 0x115f001f0>\n",
      "fromstring <function XML at 0x115f00430>\n",
      "fromstringlist <function fromstringlist at 0x115f00820>\n",
      "indent <function indent at 0x115f00280>\n",
      "iselement <function iselement at 0x115ee4160>\n",
      "iterparse <function iterparse at 0x115f003a0>\n",
      "parse <function parse at 0x115f00310>\n",
      "register_namespace <function register_namespace at 0x115effaf0>\n",
      "tostring <function tostring at 0x115effdc0>\n",
      "tostringlist <function tostringlist at 0x115effe50>\n"
     ]
    }
   ],
   "source": [
    "# Display functions in ET module\n",
    "for name, member in getmembers(ET, isfunction):\n",
    "    if not name.startswith(\"_\"):\n",
    "        print(name, member)\n",
    "\n",
    "# ET.fromstring(String) --> Element\n",
    "# ET.parse(File) --> ElementTree Object\n",
    "# ET.tostring(Element) --> String"
   ]
  },
  {
   "cell_type": "code",
   "execution_count": 57,
   "metadata": {},
   "outputs": [
    {
     "name": "stdout",
     "output_type": "stream",
     "text": [
      "crypto\n",
      "b'<crypto coin=\"MONEY!!!\">\\n    <investor id=\"0\">John Mattaliano</investor>\\n    <investor id=\"1\">Andres Aitsen</investor>\\n    <investor id=\"2\">Rich Watts</investor>\\n    <investor id=\"3\">Will Greeson</investor>\\n    <investor id=\"4\">Pranay S. Yadav</investor>\\n    <investor id=\"5\">Cody Roche</investor>\\n    <investor id=\"6\">Max Summers</investor>\\n    <investor id=\"7\">Andrus Kukk</investor>\\n    <investor id=\"8\">Pogo</investor>\\n    <investor id=\"9\">Tim Pinder</investor>\\n    <investor id=\"10\">Jack Brett</investor>\\n    <investor id=\"11\">Dennys Antunish</investor>\\n    <investor id=\"12\">Eric Fitzgerald</investor>\\n    <investor id=\"13\">Chris Warren</investor>\\n</crypto>'\n",
      "Crypto name = MONEY!!!\n",
      "{'coin': 'MONEY!!!', 'launched': '20230101'}\n"
     ]
    }
   ],
   "source": [
    "tree = ET.parse(\"./hodlers.xml\")\n",
    "root = tree.getroot()\n",
    "print(root.tag)\n",
    "print(ET.tostring(root))  # byte string\n",
    "# Get 'coin' attribute\n",
    "coin = root.get(\"coin\")\n",
    "print(\"Crypto name = {val}\".format(val=coin))\n",
    "# Set 'launched' attribute\n",
    "root.set(\"launched\", \"20230101\")\n",
    "print(root.attrib)\n",
    "# Save update XML\n",
    "tree.write(\"./hodlers.xml\", encoding=\"utf-8\", xml_declaration=True)"
   ]
  },
  {
   "cell_type": "code",
   "execution_count": 59,
   "metadata": {},
   "outputs": [
    {
     "name": "stdout",
     "output_type": "stream",
     "text": [
      "[<Element 'investor' at 0x115f555e0>, <Element 'investor' at 0x115f55630>, <Element 'investor' at 0x115f55c70>, <Element 'investor' at 0x115f55c20>, <Element 'investor' at 0x115f633b0>, <Element 'investor' at 0x115f63d10>, <Element 'investor' at 0x115f639a0>, <Element 'investor' at 0x115f637c0>, <Element 'investor' at 0x115f63590>, <Element 'investor' at 0x115f638b0>, <Element 'investor' at 0x115f63270>, <Element 'investor' at 0x115f63040>, <Element 'investor' at 0x115f63810>, <Element 'investor' at 0x115f63090>, <Element 'investor' at 0x115f439a0>, <Element 'investor' at 0x115f6b180>]\n",
      "Pranay S. Yadav\n"
     ]
    }
   ],
   "source": [
    "# print(tree.findall(\"investor\"))\n",
    "\n",
    "# Add 'id' attribute to each investor\n",
    "id = 1\n",
    "for investor in tree.findall(\"investor\"):\n",
    "    investor.set(\"id\", str(id))\n",
    "    id += 1\n",
    "\n",
    "# Save XML\n",
    "# tree.write(\"./hodlers.xml\")\n",
    "\n",
    "# Delete 'id' attributes\n",
    "for investor in tree.findall(\"investor\"):\n",
    "    del investor.attrib[\"id\"]\n",
    "tree.write(\"./hodlers.xml\")\n",
    "\n",
    "# Add investor #1\n",
    "investor1 = ET.fromstring(\"<investor>Allen Duffy</investor>\")\n",
    "root.append(investor1)\n",
    "tree.write(\"./hodlers.xml\")\n",
    "\n",
    "# Add investor #2\n",
    "investor2 = ET.Element(\"investor\")\n",
    "investor2.text = \"Karl Amber\"\n",
    "root.append(investor2)\n",
    "tree.write(\"./hodlers.xml\")\n",
    "\n",
    "# selecting nodes by path\n",
    "# add ids once more to the investor element\n",
    "for id, investor in enumerate(root.findall(\"investor\")):\n",
    "    investor.set(\"id\", str(id))\n",
    "tree.write(\"./hodlers.xml\")\n",
    "\n",
    "# select investor 4\n",
    "# XPath expression:\n",
    "# .// is an abbreviation for the descendant-or-self axis, which selects\n",
    "# all the descendants of the current node, including itself.\n",
    "# investor[@id='4'] is a node test with a predicate. It selects all the\n",
    "# investor elements that have an id attribute with a value of ‘4’.\n",
    "investor = root.find(\".//investor[@id='4']\")\n",
    "print(investor.text)"
   ]
  }
 ],
 "metadata": {
  "kernelspec": {
   "display_name": "Python 3",
   "language": "python",
   "name": "python3"
  },
  "language_info": {
   "codemirror_mode": {
    "name": "ipython",
    "version": 3
   },
   "file_extension": ".py",
   "mimetype": "text/x-python",
   "name": "python",
   "nbconvert_exporter": "python",
   "pygments_lexer": "ipython3",
   "version": "3.9.13"
  },
  "orig_nbformat": 4
 },
 "nbformat": 4,
 "nbformat_minor": 2
}
