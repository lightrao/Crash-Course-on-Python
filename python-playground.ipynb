{
 "cells": [
  {
   "cell_type": "code",
   "execution_count": 248,
   "metadata": {},
   "outputs": [],
   "source": [
    "# Fibonacci sequence: 1, 1, 2, 3, 5, 8, 13, 21\n",
    "def fibonacci(n):\n",
    "    \"\"\"This function return nth fibonacci term\"\"\"\n",
    "\n",
    "    # Check that the input is a positive integer\n",
    "    # if type(n) != int:\n",
    "    #     raise TypeError(\"n must be a positive int\")\n",
    "    # if n < 1:\n",
    "    #     raise ValueError(\"n must be a positive int\")\n",
    "\n",
    "    # Compute the Nth term\n",
    "    if n == 1:\n",
    "        return 1\n",
    "    if n == 2:\n",
    "        return 1\n",
    "    if n > 2:\n",
    "        return fibonacci(n - 1) + fibonacci(n - 2)\n",
    "\n",
    "\n",
    "# for n in range(1, 12):\n",
    "#     print(n, \":\", fibonacci(n))"
   ]
  },
  {
   "cell_type": "code",
   "execution_count": 249,
   "metadata": {},
   "outputs": [],
   "source": [
    "# memoization\n",
    "# Idea: cache values\n",
    "# Implement explicityly, use builtin Python tool\n",
    "fibonacci_cache = {}\n",
    "\n",
    "\n",
    "def fibonacci_with_cache(n):\n",
    "    # If we have cached the value, then return it\n",
    "    if n in fibonacci_cache:\n",
    "        return fibonacci_cache[n]\n",
    "\n",
    "    # Compute the Nth term\n",
    "    if n == 1:\n",
    "        value = 1\n",
    "    elif n == 2:\n",
    "        value = 1\n",
    "    elif n > 2:\n",
    "        value = fibonacci_with_cache(n - 1) + fibonacci_with_cache(n - 2)\n",
    "\n",
    "    # Cache the value and return it\n",
    "    fibonacci_cache[n] = value\n",
    "\n",
    "    return value\n",
    "\n",
    "\n",
    "# for n in range(1, 12):\n",
    "#     print(n, \":\", fibonacci_with_cache(n))"
   ]
  },
  {
   "cell_type": "code",
   "execution_count": 250,
   "metadata": {},
   "outputs": [],
   "source": [
    "from functools import lru_cache  # least recently used cache\n",
    "\n",
    "\n",
    "@lru_cache(maxsize=1000)\n",
    "def fibonacci_lru(n):\n",
    "    \"\"\"This function return nth fibonacci term\"\"\"\n",
    "    if n == 1:\n",
    "        return 1\n",
    "    if n == 2:\n",
    "        return 1\n",
    "    if n > 2:\n",
    "        return fibonacci_lru(n - 1) + fibonacci_lru(n - 2)\n",
    "\n",
    "\n",
    "# for n in range(1,12):\n",
    "#     print(n,':',fibonacci_lru(n))\n",
    "\n",
    "# for n in range(1, 51):\n",
    "#     print(fibonacci_lru(n + 1) / fibonacci_lru(n))"
   ]
  },
  {
   "cell_type": "code",
   "execution_count": 255,
   "metadata": {},
   "outputs": [
    {
     "name": "stdout",
     "output_type": "stream",
     "text": [
      "1 : 1\n",
      "2 : 1\n",
      "3 : 2\n",
      "4 : 3\n",
      "5 : 5\n",
      "6 : 8\n",
      "7 : 13\n",
      "8 : 21\n",
      "9 : 34\n",
      "10 : 55\n",
      "11 : 89\n"
     ]
    }
   ],
   "source": [
    "def fibonacci_iteration(n):\n",
    "    \"\"\"This function return nth fibonacci term\"\"\"\n",
    "    if n <= 0:\n",
    "        return 0\n",
    "\n",
    "    a, b = 0, 1\n",
    "\n",
    "    for _ in range(0, n - 1, 1):\n",
    "        a, b = b, a + b\n",
    "\n",
    "    return b\n",
    "\n",
    "\n",
    "for n in range(1, 12):\n",
    "    print(n, \":\", fibonacci_iteration(n))\n",
    "\n",
    "# print(fibonacci_iteration(2))"
   ]
  },
  {
   "cell_type": "code",
   "execution_count": 256,
   "metadata": {},
   "outputs": [
    {
     "name": "stdout",
     "output_type": "stream",
     "text": [
      "Recursive function: 9227465, time: 2.596374988555908\n",
      "Memoized function: 43466557686937456435688527675040625802564660517371780402481729089536555417949051890403879840079255169295922593080322634775209689623239873322471161642996440906533187938298969649928516003704476137795166849228875, time: 4.38690185546875e-05\n",
      "lru_cache function: 43466557686937456435688527675040625802564660517371780402481729089536555417949051890403879840079255169295922593080322634775209689623239873322471161642996440906533187938298969649928516003704476137795166849228875, time: 7.009506225585938e-05\n",
      "Iterative function: 43466557686937456435688527675040625802564660517371780402481729089536555417949051890403879840079255169295922593080322634775209689623239873322471161642996440906533187938298969649928516003704476137795166849228875, time: 0.0001418590545654297\n"
     ]
    }
   ],
   "source": [
    "import time\n",
    "\n",
    "# Start the timer\n",
    "start = time.time()\n",
    "# Calculate the 1000th Fibonacci number using the recursive function\n",
    "rec_result = fibonacci(35)\n",
    "# Stop the timer\n",
    "end = time.time()\n",
    "# Print the result and the time elapsed\n",
    "print(f\"Recursive function: {rec_result}, time: {end - start}\")\n",
    "\n",
    "# Start the timer\n",
    "start = time.time()\n",
    "# Calculate the 1000th Fibonacci number using the memoized function\n",
    "mem_result = fibonacci_with_cache(1000)\n",
    "# Stop the timer\n",
    "end = time.time()\n",
    "# Print the result and the time elapsed\n",
    "print(f\"Memoized function: {mem_result}, time: {end - start}\")\n",
    "\n",
    "# Start the timer\n",
    "start = time.time()\n",
    "# Calculate the 1000th Fibonacci number using the lru_cache function\n",
    "lru_result = fibonacci_lru(1000)\n",
    "# Stop the timer\n",
    "end = time.time()\n",
    "# Print the result and the time elapsed\n",
    "print(f\"lru_cache function: {lru_result}, time: {end - start}\")\n",
    "\n",
    "# Start the timer\n",
    "start = time.time()\n",
    "# Calculate the 1000th Fibonacci number using the iterative function\n",
    "iter_result = fibonacci_iteration(1000)\n",
    "# Stop the timer\n",
    "end = time.time()\n",
    "# Print the result and the time elapsed\n",
    "print(f\"Iterative function: {iter_result}, time: {end - start}\")"
   ]
  }
 ],
 "metadata": {
  "kernelspec": {
   "display_name": "Python 3",
   "language": "python",
   "name": "python3"
  },
  "language_info": {
   "codemirror_mode": {
    "name": "ipython",
    "version": 3
   },
   "file_extension": ".py",
   "mimetype": "text/x-python",
   "name": "python",
   "nbconvert_exporter": "python",
   "pygments_lexer": "ipython3",
   "version": "3.9.13"
  },
  "orig_nbformat": 4
 },
 "nbformat": 4,
 "nbformat_minor": 2
}
