{
 "cells": [
  {
   "cell_type": "code",
   "execution_count": 2,
   "metadata": {},
   "outputs": [
    {
     "name": "stdout",
     "output_type": "stream",
     "text": [
      "Help on function assertAlmostEqual in module unittest.case:\n",
      "\n",
      "assertAlmostEqual(self, first, second, places=None, msg=None, delta=None)\n",
      "    Fail if the two objects are unequal as determined by their\n",
      "    difference rounded to the given number of decimal places\n",
      "    (default 7) and comparing to zero, or by comparing that the\n",
      "    difference between the two objects is more than the given\n",
      "    delta.\n",
      "    \n",
      "    Note that decimal places (from zero) are usually not the same\n",
      "    as significant digits (measured from the most significant digit).\n",
      "    \n",
      "    If the two objects compare equal then they will automatically\n",
      "    compare almost equal.\n",
      "\n"
     ]
    }
   ],
   "source": [
    "import unittest\n",
    "\n",
    "help(unittest.TestCase.assertAlmostEqual)"
   ]
  },
  {
   "cell_type": "code",
   "execution_count": 3,
   "metadata": {},
   "outputs": [
    {
     "name": "stdout",
     "output_type": "stream",
     "text": [
      "Help on function assertRaises in module unittest.case:\n",
      "\n",
      "assertRaises(self, expected_exception, *args, **kwargs)\n",
      "    Fail unless an exception of class expected_exception is raised\n",
      "    by the callable when invoked with specified positional and\n",
      "    keyword arguments. If a different type of exception is\n",
      "    raised, it will not be caught, and the test case will be\n",
      "    deemed to have suffered an error, exactly as for an\n",
      "    unexpected exception.\n",
      "    \n",
      "    If called with the callable and arguments omitted, will return a\n",
      "    context object used like this::\n",
      "    \n",
      "         with self.assertRaises(SomeException):\n",
      "             do_something()\n",
      "    \n",
      "    An optional keyword argument 'msg' can be provided when assertRaises\n",
      "    is used as a context object.\n",
      "    \n",
      "    The context manager keeps a reference to the exception as\n",
      "    the 'exception' attribute. This allows you to inspect the\n",
      "    exception after the assertion::\n",
      "    \n",
      "        with self.assertRaises(SomeException) as cm:\n",
      "            do_something()\n",
      "        the_exception = cm.exception\n",
      "        self.assertEqual(the_exception.error_code, 3)\n",
      "\n"
     ]
    }
   ],
   "source": [
    "help(unittest.TestCase.assertRaises)"
   ]
  },
  {
   "cell_type": "code",
   "execution_count": 4,
   "metadata": {},
   "outputs": [
    {
     "name": "stdout",
     "output_type": "stream",
     "text": [
      "Help on function assertSetEqual in module unittest.case:\n",
      "\n",
      "assertSetEqual(self, set1, set2, msg=None)\n",
      "    A set-specific equality assertion.\n",
      "    \n",
      "    Args:\n",
      "        set1: The first set to compare.\n",
      "        set2: The second set to compare.\n",
      "        msg: Optional message to use on failure instead of a list of\n",
      "                differences.\n",
      "    \n",
      "    assertSetEqual uses ducktyping to support different types of sets, and\n",
      "    is optimized for sets specifically (parameters must support a\n",
      "    difference method).\n",
      "\n"
     ]
    }
   ],
   "source": [
    "help(unittest.TestCase.assertSetEqual)"
   ]
  }
 ],
 "metadata": {
  "kernelspec": {
   "display_name": "Python 3",
   "language": "python",
   "name": "python3"
  },
  "language_info": {
   "codemirror_mode": {
    "name": "ipython",
    "version": 3
   },
   "file_extension": ".py",
   "mimetype": "text/x-python",
   "name": "python",
   "nbconvert_exporter": "python",
   "pygments_lexer": "ipython3",
   "version": "3.9.13"
  },
  "orig_nbformat": 4
 },
 "nbformat": 4,
 "nbformat_minor": 2
}
