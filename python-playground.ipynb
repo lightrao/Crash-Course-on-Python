{
 "cells": [
  {
   "cell_type": "code",
   "execution_count": 109,
   "metadata": {},
   "outputs": [
    {
     "name": "stdout",
     "output_type": "stream",
     "text": [
      "<class 'dict'>\n",
      "{'user_id': 209, 'message': 'I love python', 'language': 'English', 'datetime': '2023-06-07 08:42:47', 'location': (44.59, -104.72)}\n"
     ]
    }
   ],
   "source": [
    "import datetime\n",
    "\n",
    "# keys and values: all kinds of data types\n",
    "post = {\n",
    "    \"user_id\": 209,\n",
    "    \"message\": \"I love python\",\n",
    "    \"language\": \"English\",\n",
    "    \"datetime\": \"2023-06-07 08:42:47\",\n",
    "    \"location\": (44.59, -104.72),\n",
    "}\n",
    "print(type(post))\n",
    "print(post)"
   ]
  },
  {
   "cell_type": "code",
   "execution_count": 110,
   "metadata": {},
   "outputs": [
    {
     "name": "stdout",
     "output_type": "stream",
     "text": [
      "{'message': \"I'm learning python\", 'language': 'English'}\n",
      "{'message': \"I'm learning python\", 'language': 'English', 'user_id': 210, 'datetime': '2023-06-08 20:33:40'}\n"
     ]
    }
   ],
   "source": [
    "post2 = dict(message=\"I'm learning python\", language=\"English\")\n",
    "print(post2)\n",
    "post2[\"user_id\"] = 210\n",
    "post2[\"datetime\"] = \"2023-06-08 20:33:40\"\n",
    "print(post2)"
   ]
  },
  {
   "cell_type": "code",
   "execution_count": 111,
   "metadata": {},
   "outputs": [
    {
     "name": "stdout",
     "output_type": "stream",
     "text": [
      "{'message': \"I'm learning python\", 'language': 'English', 'user_id': 210, 'datetime': '2023-06-08 20:33:40'}\n",
      "I'm learning python\n",
      "The post2 does not contain a location key!\n"
     ]
    }
   ],
   "source": [
    "# accessing data in dictionaries\n",
    "print(post2)\n",
    "print(post2[\"message\"])\n",
    "# print(post2['location'])\n",
    "\n",
    "if \"location\" in post2:\n",
    "    print(post2[\"location\"])\n",
    "else:\n",
    "    print(\"The post2 does not contain a location key!\")"
   ]
  },
  {
   "cell_type": "code",
   "execution_count": 112,
   "metadata": {},
   "outputs": [
    {
     "name": "stdout",
     "output_type": "stream",
     "text": [
      "{'message': \"I'm learning python\", 'language': 'English', 'user_id': 210, 'datetime': '2023-06-08 20:33:40'}\n",
      "The post2 does not contain a location key!\n",
      "The 'try except' is finished\n"
     ]
    }
   ],
   "source": [
    "print(post2)\n",
    "\n",
    "try:\n",
    "    print(post2[\"location\"])\n",
    "except KeyError:\n",
    "    print(\"The post2 does not contain a location key!\")\n",
    "except:\n",
    "    print(\"Something else went wrong!\")\n",
    "finally:\n",
    "    print(\"The 'try except' is finished\")"
   ]
  },
  {
   "cell_type": "code",
   "execution_count": 113,
   "metadata": {},
   "outputs": [
    {
     "name": "stdout",
     "output_type": "stream",
     "text": [
      "Help on built-in function get:\n",
      "\n",
      "get(key, default=None, /) method of builtins.dict instance\n",
      "    Return the value for key if key is in the dictionary, else default.\n",
      "\n",
      "{'user_id': 209, 'message': 'I love python', 'language': 'English', 'datetime': '2023-06-07 08:42:47', 'location': (44.59, -104.72)}\n",
      "{'message': \"I'm learning python\", 'language': 'English', 'user_id': 210, 'datetime': '2023-06-08 20:33:40'}\n",
      "(44.59, -104.72)\n",
      "None\n"
     ]
    }
   ],
   "source": [
    "help(post2.get)\n",
    "print(post)\n",
    "print(post2)\n",
    "print(post.get(\"location\", None))\n",
    "print(post2.get(\"location\", None))"
   ]
  },
  {
   "cell_type": "code",
   "execution_count": 114,
   "metadata": {},
   "outputs": [
    {
     "name": "stdout",
     "output_type": "stream",
     "text": [
      "{'user_id': 209, 'message': 'I love python', 'language': 'English', 'datetime': '2023-06-07 08:42:47', 'location': (44.59, -104.72)}\n",
      "user_id -> 209\n",
      "message -> I love python\n",
      "language -> English\n",
      "datetime -> 2023-06-07 08:42:47\n",
      "location -> (44.59, -104.72)\n",
      "user_id = 209\n",
      "message = I love python\n",
      "language = English\n",
      "datetime = 2023-06-07 08:42:47\n",
      "location = (44.59, -104.72)\n"
     ]
    }
   ],
   "source": [
    "print(post)\n",
    "\n",
    "for key in post.keys():\n",
    "    value = post[key]\n",
    "    print(key, \"->\", value)\n",
    "\n",
    "for key, value in post.items():\n",
    "    print(key, \"=\", value)"
   ]
  },
  {
   "cell_type": "code",
   "execution_count": 115,
   "metadata": {},
   "outputs": [
    {
     "name": "stdout",
     "output_type": "stream",
     "text": [
      "Help on built-in function pop:\n",
      "\n",
      "pop(...) method of builtins.dict instance\n",
      "    D.pop(k[,d]) -> v, remove specified key and return the corresponding value.\n",
      "    \n",
      "    If key is not found, default is returned if given, otherwise KeyError is raised\n",
      "\n",
      "{'user_id': 209, 'message': 'I love python', 'language': 'English', 'datetime': '2023-06-07 08:42:47', 'location': (44.59, -104.72)}\n",
      "(44.59, -104.72)\n",
      "{'user_id': 209, 'message': 'I love python', 'language': 'English', 'datetime': '2023-06-07 08:42:47'}\n",
      "None\n",
      "{}\n"
     ]
    }
   ],
   "source": [
    "help(post.pop)\n",
    "print(post)\n",
    "print(post.pop(\"location\"))\n",
    "print(post)\n",
    "print(post.clear())\n",
    "print(post)"
   ]
  }
 ],
 "metadata": {
  "kernelspec": {
   "display_name": "Python 3",
   "language": "python",
   "name": "python3"
  },
  "language_info": {
   "codemirror_mode": {
    "name": "ipython",
    "version": 3
   },
   "file_extension": ".py",
   "mimetype": "text/x-python",
   "name": "python",
   "nbconvert_exporter": "python",
   "pygments_lexer": "ipython3",
   "version": "3.9.13"
  },
  "orig_nbformat": 4
 },
 "nbformat": 4,
 "nbformat_minor": 2
}
