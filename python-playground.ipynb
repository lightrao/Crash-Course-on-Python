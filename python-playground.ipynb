{
 "cells": [
  {
   "cell_type": "code",
   "execution_count": 19,
   "metadata": {},
   "outputs": [
    {
     "name": "stdout",
     "output_type": "stream",
     "text": [
      "<function f at 0x10ed99820>\n",
      "7\n"
     ]
    }
   ],
   "source": [
    "def f(x):\n",
    "    return 3 * x + 1\n",
    "\n",
    "\n",
    "print(f)\n",
    "print(f(2))"
   ]
  },
  {
   "cell_type": "code",
   "execution_count": 20,
   "metadata": {},
   "outputs": [
    {
     "name": "stdout",
     "output_type": "stream",
     "text": [
      "<function <lambda> at 0x10ed99670>\n",
      "7\n"
     ]
    }
   ],
   "source": [
    "# Lambda Expression = Anonymous Function\n",
    "g = lambda x: 3 * x + 1\n",
    "print(g)\n",
    "print(g(2))"
   ]
  },
  {
   "cell_type": "code",
   "execution_count": 21,
   "metadata": {},
   "outputs": [
    {
     "name": "stdout",
     "output_type": "stream",
     "text": [
      "Leonhard Euler\n"
     ]
    }
   ],
   "source": [
    "# Lambda expression with multiple inputs\n",
    "# Combine first name and last name into fullname from form\n",
    "full_name = lambda fn, ln: fn.strip().title() + \" \" + ln.strip().title()\n",
    "print(full_name(\"  leonhard   \", \" EuleR   \"))"
   ]
  },
  {
   "cell_type": "code",
   "execution_count": 22,
   "metadata": {},
   "outputs": [
    {
     "name": "stdout",
     "output_type": "stream",
     "text": [
      "I'm lambada\n",
      "9\n",
      "3\n",
      "4.0\n"
     ]
    }
   ],
   "source": [
    "f0 = lambda: print(\"I'm lambada\")\n",
    "f0()\n",
    "f1 = lambda x: x * x\n",
    "print(f1(3))\n",
    "f2 = lambda x, y: x + y\n",
    "print(f2(1, 2))\n",
    "f3 = lambda x, y, z: (x + y + z) / 3\n",
    "print(f3(2, 4, 6))"
   ]
  },
  {
   "cell_type": "code",
   "execution_count": 23,
   "metadata": {},
   "outputs": [
    {
     "name": "stdout",
     "output_type": "stream",
     "text": [
      "['Douglas Adams', 'Isaac Asimov', 'Leigh Brackett', 'Ray Bradbury', 'Orson Scott Card', 'Arthu s C. Clarke', 'Robert Heinlein', 'Frank Herbert', 'H. G. Wells']\n"
     ]
    }
   ],
   "source": [
    "# use lambda expression without give it a name\n",
    "# sort a list of science fiction authors by last name\n",
    "scifi_authors = [\n",
    "    \"Isaac Asimov\",\n",
    "    \"Ray Bradbury\",\n",
    "    \"Robert Heinlein\",\n",
    "    \"Arthu s C. Clarke\",\n",
    "    \"Frank Herbert\",\n",
    "    \"Orson Scott Card\",\n",
    "    \"Douglas Adams\",\n",
    "    \"H. G. Wells\",\n",
    "    \"Leigh Brackett\",\n",
    "]\n",
    "# help(scifi_authors.sort)\n",
    "scifi_authors.sort(key=lambda name: name.split(\" \")[-1].lower())\n",
    "print(scifi_authors)"
   ]
  },
  {
   "cell_type": "code",
   "execution_count": 24,
   "metadata": {},
   "outputs": [
    {
     "name": "stdout",
     "output_type": "stream",
     "text": [
      "-5 0 9\n",
      "13\n"
     ]
    }
   ],
   "source": [
    "# Write a function make function\n",
    "# Quadratic Funciton: f(x)=ax^2 + bx + c\n",
    "def build_quadratic_function(a, b, c):\n",
    "    \"\"\"Returns the function f(x) = ax^2 + bx + c\"\"\"\n",
    "    return lambda x: a * x**2 + b * x + c\n",
    "\n",
    "\n",
    "f = build_quadratic_function(2, 3, -5)\n",
    "print(f(0), f(1), f(2))\n",
    "print(build_quadratic_function(3, 0, 1)(2))"
   ]
  }
 ],
 "metadata": {
  "kernelspec": {
   "display_name": "Python 3",
   "language": "python",
   "name": "python3"
  },
  "language_info": {
   "codemirror_mode": {
    "name": "ipython",
    "version": 3
   },
   "file_extension": ".py",
   "mimetype": "text/x-python",
   "name": "python",
   "nbconvert_exporter": "python",
   "pygments_lexer": "ipython3",
   "version": "3.9.13"
  },
  "orig_nbformat": 4
 },
 "nbformat": 4,
 "nbformat_minor": 2
}
