{
 "cells": [
  {
   "cell_type": "code",
   "execution_count": 5,
   "metadata": {},
   "outputs": [
    {
     "name": "stdout",
     "output_type": "stream",
     "text": [
      "See you tomorrow.\n"
     ]
    }
   ],
   "source": [
    "message=\"See you tomorrow.\"\n",
    "print(message)"
   ]
  },
  {
   "cell_type": "code",
   "execution_count": 6,
   "metadata": {},
   "outputs": [
    {
     "name": "stdout",
     "output_type": "stream",
     "text": [
      "Nice to meet you.\n"
     ]
    }
   ],
   "source": [
    "message2='Nice to meet you.'\n",
    "print(message2)"
   ]
  },
  {
   "cell_type": "code",
   "execution_count": 7,
   "metadata": {},
   "outputs": [
    {
     "name": "stdout",
     "output_type": "stream",
     "text": [
      "I'm good.\n"
     ]
    }
   ],
   "source": [
    "# message3='I'm good.'\n",
    "message3='I\\'m good.'\n",
    "# message3=\"I'm good.\"\n",
    "print(message3)"
   ]
  },
  {
   "cell_type": "code",
   "execution_count": 9,
   "metadata": {},
   "outputs": [
    {
     "name": "stdout",
     "output_type": "stream",
     "text": [
      "My name is \"Neo\".\n"
     ]
    }
   ],
   "source": [
    "# message4=\"My name is \"Neo\".\"\n",
    "# message4='My name is \"Neo\".'\n",
    "message4=\"My name is \\\"Neo\\\".\"\n",
    "print(message4)"
   ]
  },
  {
   "cell_type": "code",
   "execution_count": 16,
   "metadata": {},
   "outputs": [
    {
     "name": "stdout",
     "output_type": "stream",
     "text": [
      "\n",
      "My name is \"Neo\".\n",
      "I'am good.\n",
      "\n"
     ]
    }
   ],
   "source": [
    "message5='''\n",
    "My name is \"Neo\".\n",
    "I'am good.\n",
    "'''\n",
    "print(message5)"
   ]
  }
 ],
 "metadata": {
  "kernelspec": {
   "display_name": "Python 3",
   "language": "python",
   "name": "python3"
  },
  "language_info": {
   "codemirror_mode": {
    "name": "ipython",
    "version": 3
   },
   "file_extension": ".py",
   "mimetype": "text/x-python",
   "name": "python",
   "nbconvert_exporter": "python",
   "pygments_lexer": "ipython3",
   "version": "3.9.13"
  },
  "orig_nbformat": 4
 },
 "nbformat": 4,
 "nbformat_minor": 2
}
