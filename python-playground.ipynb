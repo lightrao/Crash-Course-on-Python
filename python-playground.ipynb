{
 "cells": [
  {
   "cell_type": "code",
   "execution_count": 99,
   "metadata": {},
   "outputs": [],
   "source": [
    "# CSV: Comma Separated Values\n",
    "path = \"./google_stock_data.csv\"\n",
    "file = open(path)\n",
    "# for line in file:\n",
    "#     print(line)"
   ]
  },
  {
   "cell_type": "code",
   "execution_count": 100,
   "metadata": {},
   "outputs": [
    {
     "name": "stdout",
     "output_type": "stream",
     "text": [
      "./google_stock_data.csv\n",
      "Date,Open,High,Low,Close,Volume,Adj Close\n",
      "8/19/2014,585.002622,587.342658,584.002627,586.862643,978600,586.862643\n",
      "['Date', 'Open', 'High', 'Low', 'Close', 'Volume', 'Adj Close']\n"
     ]
    }
   ],
   "source": [
    "print(path)\n",
    "lines = [line for line in open(path)]  # list comprehension\n",
    "print(lines[0].strip())\n",
    "print(lines[1].strip())\n",
    "\n",
    "print(lines[0].strip().split(\",\"))"
   ]
  },
  {
   "cell_type": "code",
   "execution_count": 101,
   "metadata": {},
   "outputs": [
    {
     "name": "stdout",
     "output_type": "stream",
     "text": [
      "['Date', 'Open', 'High', 'Low', 'Close', 'Volume', 'Adj Close']\n",
      "['8/19/2014', '585.002622', '587.342658', '584.002627', '586.862643', '978600', '586.862643']\n"
     ]
    }
   ],
   "source": [
    "dataset = [line.strip().split(\",\") for line in open(path)]\n",
    "print(dataset[0])\n",
    "print(dataset[1])"
   ]
  },
  {
   "cell_type": "code",
   "execution_count": 102,
   "metadata": {},
   "outputs": [],
   "source": [
    "import csv\n",
    "from datetime import datetime\n",
    "\n",
    "path = \"./google_stock_data.csv\"\n",
    "file = open(\n",
    "    path, newline=\"\"\n",
    ")  # any line endings in the CSV file will be converted to ‘\\n’\n",
    "reader = csv.reader(file)\n",
    "\n",
    "header = next(reader)  # The firs line is header\n",
    "# data = [row for row in reader]  # Read the remaining data\n",
    "# print(header)\n",
    "# print(data[0])\n",
    "\n",
    "data = []\n",
    "for row in reader:\n",
    "    # row = [Date, Open, High, Low, Close, Volume, Adj. Close]\n",
    "    date = datetime.strptime(row[0], \"%m/%d/%Y\")\n",
    "    open_price = float(row[1])  # 'opne' is builtin function\n",
    "    high = float(row[2])\n",
    "    low = float(row[3])\n",
    "    close = float(row[4])\n",
    "    volume = int(row[5])\n",
    "    adj_close = float(row[6])\n",
    "    data.append([date, open_price, high, low, close, volume, adj_close])\n",
    "\n",
    "# print(data[0])\n",
    "# print(data[1])"
   ]
  },
  {
   "cell_type": "code",
   "execution_count": 103,
   "metadata": {},
   "outputs": [],
   "source": [
    "# Daily stock returns = % change in price\n",
    "# Compute and return daily returns\n",
    "returns_path = \"./google_returns.csv\"\n",
    "file = open(returns_path, \"w\")\n",
    "writer = csv.writer(file)\n",
    "writer.writerow([\"Date\", \"Return\"])\n",
    "\n",
    "for i in range(\n",
    "    len(data) - 1\n",
    "):  # for the first day, no previous day's price to compare to\n",
    "    todays_row = data[i]\n",
    "    todays_date = todays_row[0]\n",
    "    todays_price = todays_row[-1]\n",
    "    yestodays_row = data[i + 1]\n",
    "    yestodays_price = yestodays_row[-1]\n",
    "\n",
    "    daily_return = (todays_price - yestodays_price) / yestodays_price\n",
    "    formatted_date = todays_date.strftime(\"%m/%d/%Y\")\n",
    "    writer.writerow([formatted_date, daily_return])"
   ]
  }
 ],
 "metadata": {
  "kernelspec": {
   "display_name": "Python 3",
   "language": "python",
   "name": "python3"
  },
  "language_info": {
   "codemirror_mode": {
    "name": "ipython",
    "version": 3
   },
   "file_extension": ".py",
   "mimetype": "text/x-python",
   "name": "python",
   "nbconvert_exporter": "python",
   "pygments_lexer": "ipython3",
   "version": "3.9.13"
  },
  "orig_nbformat": 4
 },
 "nbformat": 4,
 "nbformat_minor": 2
}
