{
 "cells": [
  {
   "cell_type": "code",
   "execution_count": 40,
   "metadata": {},
   "outputs": [],
   "source": [
    "# Prime number: Only divisible by itself and 1\n",
    "# (2, 3, 5, 7, 11, 13, 17, 19, ...)\n",
    "# Comosite Number: Can be factored into smaller integers\n",
    "# (4 = 2*2, 6 = 2*3, 8 = 2*2*2, 9 = 3*3, ...)\n",
    "# Unit: 1"
   ]
  },
  {
   "cell_type": "code",
   "execution_count": 41,
   "metadata": {},
   "outputs": [],
   "source": [
    "# v1) Test all divisors from 2 through n-1 (skip 1 and n)\n",
    "def is_prime_v1(n):\n",
    "    \"\"\"Return 'True' if 'n' is a prime number. Return 'False' otherwise.\"\"\"\n",
    "    if n == 1:\n",
    "        return False  # 1 is not prime\n",
    "\n",
    "    for d in range(2, n):\n",
    "        if n % d == 0:\n",
    "            return False\n",
    "    return True"
   ]
  },
  {
   "cell_type": "code",
   "execution_count": 42,
   "metadata": {},
   "outputs": [],
   "source": [
    "# Test Function\n",
    "# for n in range(1,21):\n",
    "#     print(n, is_prime_v1(n))"
   ]
  },
  {
   "cell_type": "code",
   "execution_count": 43,
   "metadata": {},
   "outputs": [],
   "source": [
    "# import time\n",
    "# t0=time.time()\n",
    "# for n in range(1,100000):\n",
    "#     is_prime_v1(n)\n",
    "# t1=time.time()\n",
    "# print(\"Time required:\",t1-t0)"
   ]
  },
  {
   "cell_type": "code",
   "execution_count": 44,
   "metadata": {},
   "outputs": [],
   "source": [
    "# Next step: Reduce number of divisors we check\n",
    "# 36 = 1*36 = 2*18 = 3*12 = 4*9 = 6*6 = 9*4 = 12*3 = 18*2 = 36*1\n",
    "# 18 = 1*18 = 2*9 = 3*6 = sqrt(18)*sqrt(18) = 6*3 = 9*2 = 18*1\n",
    "# n = 1*n = a*b = sqrt(n)*sqrt(n) = b*a = n*1"
   ]
  },
  {
   "cell_type": "code",
   "execution_count": 45,
   "metadata": {},
   "outputs": [],
   "source": [
    "# v2) Test all divisors from 2 through sqrt(n)\n",
    "import math\n",
    "\n",
    "\n",
    "def is_prime_v2(n):\n",
    "    \"\"\"Return 'True' if 'n' is prime number. return 'False' otherwise.\"\"\"\n",
    "    if n == 1:\n",
    "        return False  # 1 is not prime\n",
    "\n",
    "    max_divisor = math.floor(math.sqrt(n))\n",
    "    for d in range(2, max_divisor + 1):\n",
    "        if n % d == 0:\n",
    "            return False\n",
    "    return True"
   ]
  },
  {
   "cell_type": "code",
   "execution_count": 46,
   "metadata": {},
   "outputs": [],
   "source": [
    "# Test Function\n",
    "# for n in range(1,21):\n",
    "#     print(n, is_prime_v1(n))"
   ]
  },
  {
   "cell_type": "code",
   "execution_count": 47,
   "metadata": {},
   "outputs": [],
   "source": [
    "# import time\n",
    "\n",
    "# t0 = time.time()\n",
    "# for n in range(1, 100000):\n",
    "#     is_prime_v2(n)\n",
    "# t1 = time.time()\n",
    "# print(\"Time required:\", t1 - t0)"
   ]
  },
  {
   "cell_type": "code",
   "execution_count": 48,
   "metadata": {},
   "outputs": [],
   "source": [
    "# Step 1) Test if n is even\n",
    "# Step 2) Test only odd divisors\n",
    "import math\n",
    "\n",
    "\n",
    "def is_prime_v3(n):\n",
    "    \"\"\"Return 'True' if 'n' is prime number. return 'False' otherwise.\"\"\"\n",
    "    if n == 1:\n",
    "        return False  # 1 is not prime\n",
    "\n",
    "    # if it's even and not 2, then it's not prime\n",
    "    if n == 2:\n",
    "        return True\n",
    "    if n > 2 and n % 2 == 0:\n",
    "        return False\n",
    "\n",
    "    # an odd number divided by an even number can never have a remainder of 0\n",
    "    # If n is odd, then it cannot be divisible by any even number.\n",
    "    max_divisor = math.floor(math.sqrt(n))\n",
    "    for d in range(3, max_divisor + 1, 2):\n",
    "        if n % d == 0:\n",
    "            return False\n",
    "    return True"
   ]
  },
  {
   "cell_type": "code",
   "execution_count": 49,
   "metadata": {},
   "outputs": [],
   "source": [
    "# Test Function\n",
    "# for n in range(1,21):\n",
    "#     print(n, is_prime_v1(n))"
   ]
  },
  {
   "cell_type": "code",
   "execution_count": 50,
   "metadata": {},
   "outputs": [],
   "source": [
    "# import time\n",
    "\n",
    "# t0 = time.time()\n",
    "# for n in range(1, 100000):\n",
    "#     is_prime_v3(n)\n",
    "# t1 = time.time()\n",
    "# print(\"Time required:\", t1 - t0)"
   ]
  },
  {
   "cell_type": "code",
   "execution_count": null,
   "metadata": {},
   "outputs": [],
   "source": [
    "# If n is odd, then it cannot be divisible by any even number.\n",
    "# An odd number is a number that has a remainder of 1 when divided by 2.\n",
    "# An even number is a number that has a remainder of 0 when divided by 2. If n is odd,\n",
    "# then n = 2k + 1 for some integer k. If d is even, then d = 2m for some integer m.\n",
    "# Then n % d = (2k + 1) % (2m) = (2k % 2m) + (1 % 2m) = 1. So n is not divisible by d."
   ]
  }
 ],
 "metadata": {
  "kernelspec": {
   "display_name": "Python 3",
   "language": "python",
   "name": "python3"
  },
  "language_info": {
   "codemirror_mode": {
    "name": "ipython",
    "version": 3
   },
   "file_extension": ".py",
   "mimetype": "text/x-python",
   "name": "python",
   "nbconvert_exporter": "python",
   "pygments_lexer": "ipython3",
   "version": "3.9.13"
  },
  "orig_nbformat": 4
 },
 "nbformat": 4,
 "nbformat_minor": 2
}
