{
 "cells": [
  {
   "cell_type": "code",
   "execution_count": 14,
   "metadata": {},
   "outputs": [],
   "source": [
    "import random\n",
    "\n",
    "\n",
    "def random_walk(n):\n",
    "    \"\"\"Return coordinates after 'n' block(step) random walk.\"\"\"\n",
    "    x = 0\n",
    "    y = 0\n",
    "    for _ in range(n):\n",
    "        step = random.choice([\"N\", \"S\", \"E\", \"W\"])\n",
    "        if step == \"N\":\n",
    "            y = y + 1\n",
    "        elif step == \"S\":\n",
    "            y = y - 1\n",
    "        elif step == \"E\":\n",
    "            x = x + 1\n",
    "        elif step == \"W\":\n",
    "            x = x - 1\n",
    "        else:\n",
    "            raise Exception(\"Something went wrong!\")\n",
    "    return (x, y)\n",
    "\n",
    "\n",
    "# for _ in range(25):\n",
    "#     walk = random_walk(10)\n",
    "#     print(walk, \"Distance from home =\", abs(walk[0]) + abs(walk[1]))"
   ]
  },
  {
   "cell_type": "code",
   "execution_count": 15,
   "metadata": {},
   "outputs": [],
   "source": [
    "def random_walk_2(n):\n",
    "    \"\"\"Return coordiantes after 'n' block random walk.\"\"\"\n",
    "    x, y = 0, 0\n",
    "    for _ in range(n):\n",
    "        (dx, dy) = random.choice([(0, 1), (0, -1), (1, 0), (-1, 0)])\n",
    "        x += dx\n",
    "        y += dy\n",
    "    return (x, y)\n",
    "\n",
    "\n",
    "# for i in range(25):\n",
    "#     walk=random_walk_2(10)\n",
    "#     print(walk, \"Distance frome home =\", abs(walk[0])+abs(walk[1]))"
   ]
  },
  {
   "cell_type": "code",
   "execution_count": 16,
   "metadata": {},
   "outputs": [
    {
     "name": "stdout",
     "output_type": "stream",
     "text": [
      "Walk size = 1  -> percentage of no transport = 100.0 %\n",
      "Walk size = 2  -> percentage of no transport = 100.0 %\n",
      "Walk size = 3  -> percentage of no transport = 100.0 %\n",
      "Walk size = 4  -> percentage of no transport = 100.0 %\n",
      "Walk size = 5  -> percentage of no transport = 87.91 %\n",
      "Walk size = 6  -> percentage of no transport = 93.96 %\n",
      "Walk size = 7  -> percentage of no transport = 77.03 %\n",
      "Walk size = 8  -> percentage of no transport = 86.28 %\n",
      "Walk size = 9  -> percentage of no transport = 67.46 %\n",
      "Walk size = 10  -> percentage of no transport = 79.51 %\n",
      "Walk size = 11  -> percentage of no transport = 59.67 %\n",
      "Walk size = 12  -> percentage of no transport = 72.61999999999999 %\n",
      "Walk size = 13  -> percentage of no transport = 53.035 %\n",
      "Walk size = 14  -> percentage of no transport = 67.0 %\n",
      "Walk size = 15  -> percentage of no transport = 48.64 %\n",
      "Walk size = 16  -> percentage of no transport = 62.5 %\n",
      "Walk size = 17  -> percentage of no transport = 44.4 %\n",
      "Walk size = 18  -> percentage of no transport = 58.004999999999995 %\n",
      "Walk size = 19  -> percentage of no transport = 40.87 %\n",
      "Walk size = 20  -> percentage of no transport = 54.35 %\n",
      "Walk size = 21  -> percentage of no transport = 38.24 %\n",
      "Walk size = 22  -> percentage of no transport = 50.86000000000001 %\n",
      "Walk size = 23  -> percentage of no transport = 35.095 %\n",
      "Walk size = 24  -> percentage of no transport = 48.065000000000005 %\n",
      "Walk size = 25  -> percentage of no transport = 33.35 %\n",
      "Walk size = 26  -> percentage of no transport = 44.905 %\n",
      "Walk size = 27  -> percentage of no transport = 31.16 %\n",
      "Walk size = 28  -> percentage of no transport = 42.91 %\n",
      "Walk size = 29  -> percentage of no transport = 29.7 %\n",
      "Walk size = 30  -> percentage of no transport = 40.28 %\n"
     ]
    }
   ],
   "source": [
    "# What is the longest random walk you can take so that\n",
    "# on average you will end up 4 blocks or fewer from home(There is less than\n",
    "# fifty percent chance you'll pay for transport home)\n",
    "# Monte Carlo Method\n",
    "\n",
    "number_of_walks = 20000\n",
    "\n",
    "for walk_length in range(1, 31):\n",
    "    no_transport = (\n",
    "        0  # Number of walks 4 or fewer blocks from home, no pay for transport\n",
    "    )\n",
    "    for _ in range(number_of_walks):\n",
    "        (x, y) = random_walk_2(walk_length)\n",
    "        distance = abs(x) + abs(y)\n",
    "        if distance <= 4:\n",
    "            no_transport += 1\n",
    "    no_transport_percentage = float(no_transport) / number_of_walks\n",
    "    print(\n",
    "        \"Walk size =\",\n",
    "        walk_length,\n",
    "        \" -> percentage of no transport =\",\n",
    "        100 * no_transport_percentage,\n",
    "        \"%\",\n",
    "    )"
   ]
  }
 ],
 "metadata": {
  "kernelspec": {
   "display_name": "Python 3",
   "language": "python",
   "name": "python3"
  },
  "language_info": {
   "codemirror_mode": {
    "name": "ipython",
    "version": 3
   },
   "file_extension": ".py",
   "mimetype": "text/x-python",
   "name": "python",
   "nbconvert_exporter": "python",
   "pygments_lexer": "ipython3",
   "version": "3.9.13"
  },
  "orig_nbformat": 4
 },
 "nbformat": 4,
 "nbformat_minor": 2
}
