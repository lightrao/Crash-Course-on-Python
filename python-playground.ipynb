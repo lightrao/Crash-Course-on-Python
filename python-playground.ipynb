{
 "cells": [
  {
   "cell_type": "code",
   "execution_count": 14,
   "metadata": {},
   "outputs": [
    {
     "name": "stdout",
     "output_type": "stream",
     "text": [
      "<function f at 0x111abb160>\n"
     ]
    }
   ],
   "source": [
    "def f():\n",
    "    pass\n",
    "\n",
    "\n",
    "f()\n",
    "print(f)"
   ]
  },
  {
   "cell_type": "code",
   "execution_count": 15,
   "metadata": {},
   "outputs": [
    {
     "name": "stdout",
     "output_type": "stream",
     "text": [
      "Ping!\n"
     ]
    }
   ],
   "source": [
    "def ping():\n",
    "    return \"Ping!\"\n",
    "\n",
    "\n",
    "x = ping()\n",
    "print(x)"
   ]
  },
  {
   "cell_type": "code",
   "execution_count": 20,
   "metadata": {},
   "outputs": [
    {
     "name": "stdout",
     "output_type": "stream",
     "text": [
      "Help on function sphere_volume in module __main__:\n",
      "\n",
      "sphere_volume(r)\n",
      "    Returns the volume of a sphere with radius r.\n",
      "\n",
      "33.510321638291124\n"
     ]
    }
   ],
   "source": [
    "import math\n",
    "\n",
    "\n",
    "def sphere_volume(r):\n",
    "    \"\"\"Returns the volume of a sphere with radius r.\"\"\"\n",
    "    v = (4.0 / 3.0) * math.pi * r**3\n",
    "    return v\n",
    "\n",
    "\n",
    "help(sphere_volume)\n",
    "print(sphere_volume(2))"
   ]
  },
  {
   "cell_type": "code",
   "execution_count": 22,
   "metadata": {},
   "outputs": [
    {
     "name": "stdout",
     "output_type": "stream",
     "text": [
      "Help on function triangle_area in module __main__:\n",
      "\n",
      "triangle_area(b, h)\n",
      "    Returns the area of a triangle with base b and height h.\n",
      "\n",
      "9.0\n"
     ]
    }
   ],
   "source": [
    "def triangle_area(b, h):\n",
    "    \"\"\"Returns the area of a triangle with base b and height h.\"\"\"\n",
    "    return 0.5 * b * h\n",
    "\n",
    "\n",
    "help(triangle_area)\n",
    "print(triangle_area(3, 6))"
   ]
  },
  {
   "cell_type": "code",
   "execution_count": 25,
   "metadata": {},
   "outputs": [
    {
     "name": "stdout",
     "output_type": "stream",
     "text": [
      "152.4\n",
      "172.72\n"
     ]
    }
   ],
   "source": [
    "# 1 inch = 2.54 cm\n",
    "# 1 foot = 12 inches\n",
    "def cm(feet=0, inches=0):\n",
    "    \"\"\"Converts a length from feet and inches to centimeters.\"\"\"\n",
    "    inches_to_cm = inches * 2.54\n",
    "    feet_to_cm = feet * 12 * 2.54\n",
    "    return inches_to_cm + feet_to_cm\n",
    "\n",
    "\n",
    "# keyword argument\n",
    "print(cm(feet=5))\n",
    "print(cm(inches=8, feet=5))"
   ]
  },
  {
   "cell_type": "code",
   "execution_count": 30,
   "metadata": {},
   "outputs": [
    {
     "name": "stdout",
     "output_type": "stream",
     "text": [
      "5\n",
      "8\n"
     ]
    }
   ],
   "source": [
    "# types of arguments: keyword, required\n",
    "# keyword arguments(default argument) comes last\n",
    "def g(y, x=0):\n",
    "    return x + y\n",
    "\n",
    "\n",
    "print(g(5))\n",
    "print(g(5, x=3))"
   ]
  }
 ],
 "metadata": {
  "kernelspec": {
   "display_name": "Python 3",
   "language": "python",
   "name": "python3"
  },
  "language_info": {
   "codemirror_mode": {
    "name": "ipython",
    "version": 3
   },
   "file_extension": ".py",
   "mimetype": "text/x-python",
   "name": "python",
   "nbconvert_exporter": "python",
   "pygments_lexer": "ipython3",
   "version": "3.9.13"
  },
  "orig_nbformat": 4
 },
 "nbformat": 4,
 "nbformat_minor": 2
}
