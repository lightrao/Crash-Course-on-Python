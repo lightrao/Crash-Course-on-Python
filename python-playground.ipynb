{
 "cells": [
  {
   "cell_type": "code",
   "execution_count": 6,
   "metadata": {},
   "outputs": [
    {
     "name": "stdout",
     "output_type": "stream",
     "text": [
      "Your string is too short.\n",
      "Please enter a string with at least 6 characters.\n"
     ]
    }
   ],
   "source": [
    "user_input=input('Please inter a string: ')\n",
    "if len(user_input)<6:\n",
    "    print(\"Your string is too short.\")\n",
    "    print(\"Please enter a string with at least 6 characters.\")"
   ]
  },
  {
   "cell_type": "code",
   "execution_count": 7,
   "metadata": {},
   "outputs": [
    {
     "name": "stdout",
     "output_type": "stream",
     "text": [
      "Your number is even.\n"
     ]
    }
   ],
   "source": [
    "user_input=input(\"Please enter an integer: \")\n",
    "number=int(user_input)\n",
    "\n",
    "if number%2==0:\n",
    "    print(\"Your number is even.\")\n",
    "else:\n",
    "    print(\"Your number is odd.\")"
   ]
  },
  {
   "cell_type": "code",
   "execution_count": 10,
   "metadata": {},
   "outputs": [
    {
     "name": "stdout",
     "output_type": "stream",
     "text": [
      "This is a equilateral triangle.\n"
     ]
    }
   ],
   "source": [
    "# Equilateral triangle: A triangle that has three equal sides and three equal angles of 60°.\n",
    "# Isosceles triangle: A triangle that has two equal sides and two equal angles.\n",
    "# Scalene triangle: A triangle that has no equal sides and no equal angles.\n",
    "a=int(input(\"The length of side a = \"))\n",
    "b=int(input(\"The length of side b = \"))\n",
    "c=int(input(\"The length of side c = \"))\n",
    "\n",
    "if a!=b and b!=c and a!=c:\n",
    "    print(\"This is a scalene triangle.\")\n",
    "elif a==b and b==c:\n",
    "    print(\"This is a equilateral triangle.\") \n",
    "else:\n",
    "    print(\"This is a isosceles triangle.\")"
   ]
  }
 ],
 "metadata": {
  "kernelspec": {
   "display_name": "Python 3",
   "language": "python",
   "name": "python3"
  },
  "language_info": {
   "codemirror_mode": {
    "name": "ipython",
    "version": 3
   },
   "file_extension": ".py",
   "mimetype": "text/x-python",
   "name": "python",
   "nbconvert_exporter": "python",
   "pygments_lexer": "ipython3",
   "version": "3.9.13"
  },
  "orig_nbformat": 4
 },
 "nbformat": 4,
 "nbformat_minor": 2
}
