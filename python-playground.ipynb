{
 "cells": [
  {
   "cell_type": "code",
   "execution_count": 131,
   "metadata": {},
   "outputs": [
    {
     "data": {
      "text/plain": [
       "['__class__',\n",
       " '__delattr__',\n",
       " '__dict__',\n",
       " '__dir__',\n",
       " '__doc__',\n",
       " '__eq__',\n",
       " '__format__',\n",
       " '__ge__',\n",
       " '__getattribute__',\n",
       " '__gt__',\n",
       " '__hash__',\n",
       " '__init__',\n",
       " '__init_subclass__',\n",
       " '__le__',\n",
       " '__lt__',\n",
       " '__module__',\n",
       " '__ne__',\n",
       " '__new__',\n",
       " '__reduce__',\n",
       " '__reduce_ex__',\n",
       " '__repr__',\n",
       " '__setattr__',\n",
       " '__sizeof__',\n",
       " '__str__',\n",
       " '__subclasshook__',\n",
       " '__weakref__']"
      ]
     },
     "execution_count": 131,
     "metadata": {},
     "output_type": "execute_result"
    }
   ],
   "source": [
    "class Snowflake:\n",
    "    pass\n",
    "\n",
    "\n",
    "flake = Snowflake()\n",
    "dir(flake)"
   ]
  },
  {
   "cell_type": "code",
   "execution_count": 132,
   "metadata": {},
   "outputs": [],
   "source": [
    "# '__eq__' function: called when comparing objects with ==\n",
    "# '__setattr__' function: called when attach an attribute to an object\n",
    "# '__dict__' attribute: a dictinary contains all of the object's attributes\n",
    "# '__doc__' attribute: doc string for the class"
   ]
  },
  {
   "cell_type": "code",
   "execution_count": 133,
   "metadata": {},
   "outputs": [
    {
     "name": "stdout",
     "output_type": "stream",
     "text": [
      "{'first_name': 'Owen', 'last_name': 'Phelps'}\n"
     ]
    }
   ],
   "source": [
    "class Person:\n",
    "    pass\n",
    "\n",
    "\n",
    "p1 = Person()\n",
    "p1.first_name = \"Owen\"\n",
    "p1.last_name = \"Phelps\"\n",
    "print(p1.__dict__)"
   ]
  },
  {
   "cell_type": "code",
   "execution_count": 134,
   "metadata": {},
   "outputs": [
    {
     "name": "stdout",
     "output_type": "stream",
     "text": [
      "Rod Morley\n"
     ]
    }
   ],
   "source": [
    "class Martian:\n",
    "    \"\"\"Some one who lives on Mars.\"\"\"\n",
    "\n",
    "    def __init__(self, fn, ln):\n",
    "        self.first_name = fn\n",
    "        self.last_name = ln\n",
    "\n",
    "    def __setattr__(self, name, value):\n",
    "        # print(f\">>> You set {name} = {value}\")\n",
    "        # we are responsible for storing attributes to '__dict__'\n",
    "        self.__dict__[name] = value\n",
    "\n",
    "    # called when returning computed attributes\n",
    "    # def __getattr__(self, name):\n",
    "    #     print(f\">>> You get the {name} computed attribute\")\n",
    "    #     if name == \"full_name\":\n",
    "    #         return f\"{self.first_name} {self.last_name}\"\n",
    "    #     else:\n",
    "    #         raise AttributeError(f\"No attribute named {name}\")\n",
    "\n",
    "    # def __getattribute__(self, name):\n",
    "    #     print(f\">>> You get the {name} attribute\")\n",
    "\n",
    "    def __str__(self):\n",
    "        return f\"{self.first_name} {self.last_name}\"\n",
    "\n",
    "\n",
    "# '__init__' influence '__dict__'\n",
    "# print(Martian.__doc__)\n",
    "# m1 = Martian(\"Rob\", \"Schenk\")\n",
    "# m1.arrival_date = \"2033-06-15\"\n",
    "# print(m1.__dict__)\n",
    "\n",
    "# '__init__' will call '__setattr__'\n",
    "# m = Martian(\"Klaus\", \"Iserlohn\")\n",
    "# print(m.__dict__)\n",
    "\n",
    "# asymmetry between 'get attribute' and 'set attribute'\n",
    "# m = Martian(\"Pierre\", \"Aberg\")\n",
    "# print(m.first_name)\n",
    "# print(m.last_name)\n",
    "# print(m.full_name)\n",
    "# # print(m.none_exist)\n",
    "# print(m.__dict__)\n",
    "\n",
    "# '__str__' will be called\n",
    "# object id is memory address\n",
    "# m = Martian(\"Prayash\", \"Mohapatra\")\n",
    "# print(m)\n",
    "# print(m.__str__())\n",
    "# print(id(m))\n",
    "\n",
    "# custom '__str__'\n",
    "m = Martian(\"Rod\", \"Morley\")\n",
    "print(m)"
   ]
  },
  {
   "cell_type": "code",
   "execution_count": 135,
   "metadata": {},
   "outputs": [],
   "source": [
    "# https://docs.python.org/3/reference/datamodel.html#special-method-names"
   ]
  },
  {
   "cell_type": "code",
   "execution_count": 138,
   "metadata": {},
   "outputs": [
    {
     "name": "stdout",
     "output_type": "stream",
     "text": [
      ">>> Comparing NINE HEART with EIGHT DIAMOND\n",
      "False\n",
      ">>> Comparing EIGHT DIAMOND with NINE HEART\n",
      "True\n",
      ">>> Comparing EIGHT DIAMOND with NINE HEART\n",
      ">>> Comparing SEVEN CLUB with EIGHT DIAMOND\n",
      ">>> Comparing FOUR SPADE with SEVEN CLUB\n",
      ">>> Comparing FIVE HEART with FOUR SPADE\n",
      ">>> Comparing FIVE HEART with EIGHT DIAMOND\n",
      ">>> Comparing FIVE HEART with SEVEN CLUB\n",
      ">>> Comparing FIVE HEART with FOUR SPADE\n",
      ">>> Comparing FOUR DIAMOND with SEVEN CLUB\n",
      ">>> Comparing FOUR DIAMOND with FIVE HEART\n",
      ">>> Comparing FOUR DIAMOND with FOUR SPADE\n",
      "FOUR DIAMOND\n",
      "FOUR SPADE\n",
      "FIVE HEART\n",
      "SEVEN CLUB\n",
      "EIGHT DIAMOND\n",
      "NINE HEART\n"
     ]
    }
   ],
   "source": [
    "# Compare Poker Cards: order by rank and suit\n",
    "from enum import Enum\n",
    "\n",
    "\n",
    "# Define the ranks and suits as enums\n",
    "class Rank(Enum):\n",
    "    TWO = 2\n",
    "    THREE = 3\n",
    "    FOUR = 4\n",
    "    FIVE = 5\n",
    "    SIX = 6\n",
    "    SEVEN = 7\n",
    "    EIGHT = 8\n",
    "    NINE = 9\n",
    "    TEN = 10\n",
    "    JACK = 11\n",
    "    QUEEN = 12\n",
    "    KING = 13\n",
    "    ACE = 14\n",
    "\n",
    "\n",
    "class Suit(Enum):\n",
    "    SPADE = 4\n",
    "    HEART = 3\n",
    "    DIAMOND = 2\n",
    "    CLUB = 1\n",
    "\n",
    "\n",
    "class PokerCard:\n",
    "    \"\"\"A card used in poker games.\"\"\"\n",
    "\n",
    "    def __init__(self, rank, suit):\n",
    "        self.rank = rank  # A Rank enum\n",
    "        self.suit = suit  # A Suit enum\n",
    "\n",
    "    def __str__(self):\n",
    "        return f\"{self.rank.name} {self.suit.name}\"\n",
    "\n",
    "    def __lt__(self, other):\n",
    "        # print(f\">>> Comparing {self} with {other}\")\n",
    "        # Compare the cards by rank first, then by suit\n",
    "        if self.rank != other.rank:\n",
    "            return self.rank.value < other.rank.value\n",
    "        else:\n",
    "            return self.suit.value < other.suit.value\n",
    "\n",
    "\n",
    "c1 = PokerCard(Rank.NINE, Suit.HEART)  # Nine of hearts\n",
    "c2 = PokerCard(Rank.EIGHT, Suit.DIAMOND)  # Eight of diamonds\n",
    "c3 = PokerCard(Rank.SEVEN, Suit.CLUB)  # Seven of clubs\n",
    "c4 = PokerCard(Rank.FOUR, Suit.SPADE)  # Four of spades\n",
    "c5 = PokerCard(Rank.FIVE, Suit.HEART)  # Five of hearts\n",
    "c6 = PokerCard(Rank.FOUR, Suit.DIAMOND)  # Four of diamonds\n",
    "\n",
    "print(c1 < c2)\n",
    "print(c1 > c2)\n",
    "\n",
    "cards = [c1, c2, c3, c4, c5, c6]\n",
    "cards.sort()\n",
    "\n",
    "for c in cards:\n",
    "    print(c)"
   ]
  },
  {
   "cell_type": "code",
   "execution_count": 139,
   "metadata": {},
   "outputs": [
    {
     "name": "stdout",
     "output_type": "stream",
     "text": [
      ">>> Comparing Len Klein with Cyrille Collin\n",
      ">>> Comparing Matthias Stein with Len Klein\n",
      ">>> Comparing Mike Lenox with Matthias Stein\n",
      ">>> Comparing Mike Lenox with Len Klein\n",
      ">>> Comparing Mike Lenox with Matthias Stein\n",
      ">>> Comparing Bob Hillier with Mike Lenox\n",
      ">>> Comparing Bob Hillier with Len Klein\n",
      ">>> Comparing Bob Hillier with Cyrille Collin\n",
      ">>> Comparing Olwyn Meek with Len Klein\n",
      ">>> Comparing Olwyn Meek with Matthias Stein\n",
      ">>> Comparing Olwyn Meek with Mike Lenox\n",
      ">>> Comparing Andy Taylor with Mike Lenox\n",
      ">>> Comparing Andy Taylor with Matthias Stein\n",
      ">>> Comparing Halbert Stone with Mike Lenox\n",
      ">>> Comparing Halbert Stone with Matthias Stein\n",
      ">>> Comparing Halbert Stone with Andy Taylor\n",
      ">>> Comparing Marvin Meek with Olwyn Meek\n",
      ">>> Comparing Marvin Meek with Len Klein\n",
      ">>> Comparing Marvin Meek with Mike Lenox\n",
      "Cyrille Collin\n",
      "Bob Hillier\n",
      "Len Klein\n",
      "Mike Lenox\n",
      "Marvin Meek\n",
      "Olwyn Meek\n",
      "Matthias Stein\n",
      "Halbert Stone\n",
      "Andy Taylor\n"
     ]
    }
   ],
   "source": [
    "# Compare Martians: order by name\n",
    "class Martian:\n",
    "    \"\"\"Some one who lives on Mars.\"\"\"\n",
    "\n",
    "    def __init__(self, fn, ln):\n",
    "        self.first_name = fn\n",
    "        self.last_name = ln\n",
    "\n",
    "    def __str__(self):\n",
    "        return f\"{self.first_name} {self.last_name}\"\n",
    "\n",
    "    def __lt__(self, other):\n",
    "        print(f\">>> Comparing {self} with {other}\")\n",
    "        if self.last_name != other.last_name:\n",
    "            return self.last_name < other.last_name\n",
    "        else:\n",
    "            return self.first_name < other.first_name\n",
    "\n",
    "\n",
    "m1 = Martian(\"Cyrille\", \"Collin\")\n",
    "m2 = Martian(\"Len\", \"Klein\")\n",
    "m3 = Martian(\"Matthias\", \"Stein\")\n",
    "m4 = Martian(\"Mike\", \"Lenox\")\n",
    "m5 = Martian(\"Bob\", \"Hillier\")\n",
    "m6 = Martian(\"Olwyn\", \"Meek\")\n",
    "m7 = Martian(\"Andy\", \"Taylor\")\n",
    "m8 = Martian(\"Halbert\", \"Stone\")\n",
    "m9 = Martian(\"Marvin\", \"Meek\")\n",
    "\n",
    "martians = [m1, m2, m3, m4, m5, m6, m7, m8, m9]\n",
    "martians.sort()\n",
    "\n",
    "for m in martians:\n",
    "    print(m)"
   ]
  }
 ],
 "metadata": {
  "kernelspec": {
   "display_name": "Python 3",
   "language": "python",
   "name": "python3"
  },
  "language_info": {
   "codemirror_mode": {
    "name": "ipython",
    "version": 3
   },
   "file_extension": ".py",
   "mimetype": "text/x-python",
   "name": "python",
   "nbconvert_exporter": "python",
   "pygments_lexer": "ipython3",
   "version": "3.9.13"
  },
  "orig_nbformat": 4
 },
 "nbformat": 4,
 "nbformat_minor": 2
}
