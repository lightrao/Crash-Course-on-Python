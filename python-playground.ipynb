{
 "cells": [
  {
   "cell_type": "code",
   "execution_count": 19,
   "metadata": {},
   "outputs": [],
   "source": [
    "# list(array) example\n",
    "my_list = [1, 2, \"a\", 3.14]"
   ]
  },
  {
   "cell_type": "code",
   "execution_count": 20,
   "metadata": {},
   "outputs": [
    {
     "name": "stdout",
     "output_type": "stream",
     "text": [
      "[0, 1, 4, 9, 16, 25, 36, 49, 64, 81]\n"
     ]
    }
   ],
   "source": [
    "# Python list Comprehensions:\n",
    "# [expr for val in collection]\n",
    "squares = [x**2 for x in range(10)]\n",
    "print(squares)"
   ]
  },
  {
   "cell_type": "code",
   "execution_count": 21,
   "metadata": {},
   "outputs": [
    {
     "name": "stdout",
     "output_type": "stream",
     "text": [
      "[0, 1, 4, 9, 16, 25, 36, 49, 64, 81]\n"
     ]
    }
   ],
   "source": [
    "squares_loop = []\n",
    "for i in range(0, 10):\n",
    "    squares_loop.append(i**2)\n",
    "print(squares_loop)"
   ]
  },
  {
   "cell_type": "code",
   "execution_count": 22,
   "metadata": {},
   "outputs": [
    {
     "name": "stdout",
     "output_type": "stream",
     "text": [
      "{0, 1, 4}\n",
      "True\n",
      "{0, 1, 3, 4, 5, 9}\n",
      "True\n"
     ]
    }
   ],
   "source": [
    "remainders5 = {x**2 % 5 for x in range(0, 5)}\n",
    "print(remainders5)\n",
    "print(len(remainders5) == (5 + 1) / 2)\n",
    "remainders11 = {x**2 % 11 for x in range(0, 11)}\n",
    "print(remainders11)\n",
    "print(len(remainders11) == (11 + 1) / 2)\n",
    "\n",
    "# Quadratic Reciprocity - Gauss\n",
    "# p_remainders = {x**2 % prime for x in range(0,prime)}\n",
    "# len(p_remainders) = (p+1)/2"
   ]
  },
  {
   "cell_type": "code",
   "execution_count": 23,
   "metadata": {},
   "outputs": [
    {
     "name": "stdout",
     "output_type": "stream",
     "text": [
      "[2, -3, 1, 2, -3, 1, 2, -3, 1, 2, -3, 1]\n",
      "[2, 4, 6, 1, 2, 3]\n",
      "[8, -12, 4]\n"
     ]
    }
   ],
   "source": [
    "# Scalar Multiplication\n",
    "v = [2, -3, 1]\n",
    "print(4 * v)  # Concatenation\n",
    "print([2, 4, 6] + [1, 2, 3])\n",
    "\n",
    "w = [4 * x for x in v]\n",
    "print(w)"
   ]
  },
  {
   "cell_type": "code",
   "execution_count": 24,
   "metadata": {},
   "outputs": [
    {
     "name": "stdout",
     "output_type": "stream",
     "text": [
      "[0, 2, 4, 6, 8, 10, 12, 14, 16, 18, 20]\n"
     ]
    }
   ],
   "source": [
    "# [expr for val in collection if <test>]\n",
    "evens = [x for x in range(21) if x % 2 == 0]\n",
    "print(evens)"
   ]
  },
  {
   "cell_type": "code",
   "execution_count": 25,
   "metadata": {},
   "outputs": [
    {
     "name": "stdout",
     "output_type": "stream",
     "text": [
      "['Gandhi', 'Gone with the Wind', 'Gattaca', 'Ghostbusters', 'Good Wi 11 Hunting', 'Groundhog Day']\n",
      "['Gandhi', 'Gone with the Wind', 'Gattaca', 'Ghostbusters', 'Good Wi 11 Hunting', 'Groundhog Day']\n"
     ]
    }
   ],
   "source": [
    "movies = [\n",
    "    \"Star Wars\",\n",
    "    \"Gandhi\",\n",
    "    \"Casablanca\",\n",
    "    \"Shawshank Redemption\",\n",
    "    \"Toy St ory\",\n",
    "    \"Gone with the Wind\",\n",
    "    \"Citizen Kane\",\n",
    "    \"It's a Wonderful Life\",\n",
    "    \"The Wizard o f Oz\",\n",
    "    \"Gattaca\",\n",
    "    \"Rear Window\",\n",
    "    \"Ghostbusters\",\n",
    "    \"To Kill A Mockingbird\",\n",
    "    \"Good Wi 11 Hunting\",\n",
    "    \"2001: A Space Odyssey\",\n",
    "    \"Raiders of the Lost Ark\",\n",
    "    \"Groundhog Day\",\n",
    "    \"Close Encounters of the Third Kind\",\n",
    "]\n",
    "gmovies_loop = []\n",
    "for title in movies:\n",
    "    if title.startswith(\"G\"):\n",
    "        gmovies_loop.append(title)\n",
    "print(gmovies_loop)\n",
    "\n",
    "gmovies = [title for title in movies if title.startswith(\"G\")]\n",
    "print(gmovies)"
   ]
  },
  {
   "cell_type": "code",
   "execution_count": 26,
   "metadata": {},
   "outputs": [
    {
     "name": "stdout",
     "output_type": "stream",
     "text": [
      "['Citizen Kane', \"It's a Wonderful Life\", 'Gattaca', 'Rear Window', 'Groundhog D ay', 'Close Encounters of the Third Kind', 'Raiders of the Lost Ark']\n"
     ]
    }
   ],
   "source": [
    "movies = [\n",
    "    (\"Citizen Kane\", 1941),\n",
    "    (\"Spirited Away\", 2001),\n",
    "    (\"It's a Wonderful Life\", 1946),\n",
    "    (\"Gattaca\", 1997),\n",
    "    (\"No Country for Old Men\", 2007),\n",
    "    (\"Rear Window\", 1954),\n",
    "    (\"The Lord of the Rings: The Fellowship of the Ring\", 2001),\n",
    "    (\"Groundhog D ay\", 1993),\n",
    "    (\"Close Encounters of the Third Kind\", 1977),\n",
    "    (\"The Royal Tenenbaums\", 2001),\n",
    "    (\"The Aviator\", 2004),\n",
    "    (\"Raiders of the Lost Ark\", 1981),\n",
    "]\n",
    "\n",
    "pre2k = [title for (title, year) in movies if year < 2000]\n",
    "print(pre2k)"
   ]
  },
  {
   "cell_type": "code",
   "execution_count": 27,
   "metadata": {},
   "outputs": [
    {
     "name": "stdout",
     "output_type": "stream",
     "text": [
      "['apple', 'cake']\n"
     ]
    }
   ],
   "source": [
    "# [expr for val in collection if <test1> and <test2>]\n",
    "words = [\"apple\", \"banana\", \"cat\", \"dog\", \"elephant\", \"fox\", \"me\", \"cake\"]\n",
    "e_words = [w for w in words if w.endswith(\"e\") and len(w) > 3]\n",
    "print(e_words)"
   ]
  },
  {
   "cell_type": "code",
   "execution_count": 28,
   "metadata": {},
   "outputs": [
    {
     "name": "stdout",
     "output_type": "stream",
     "text": [
      "[('y', 1), ('y', 2), ('x', 1), ('x', 2)]\n"
     ]
    }
   ],
   "source": [
    "# [expr for val1 in collection1 and val2 in collection2]\n",
    "\n",
    "# Cartesian Product\n",
    "# If A and B are sets, then the cartesian product is the set of pairs (a,b),\n",
    "# where 'a' is in A and 'b' is in B.\n",
    "A = {\"x\", \"y\"}\n",
    "B = {1, 2}\n",
    "cartesian_product = [(a, b) for a in A for b in B]\n",
    "print(cartesian_product)"
   ]
  },
  {
   "cell_type": "code",
   "execution_count": 29,
   "metadata": {},
   "outputs": [
    {
     "name": "stdout",
     "output_type": "stream",
     "text": [
      "[(1, 4), (1, 5), (1, 6), (2, 4), (2, 5), (2, 6), (3, 4), (3, 5), (3, 6)]\n"
     ]
    }
   ],
   "source": [
    "nums1 = [1, 2, 3]\n",
    "nums2 = [4, 5, 6]\n",
    "pairs = [(x, y) for x in nums1 for y in nums2]\n",
    "print(pairs)"
   ]
  },
  {
   "cell_type": "code",
   "execution_count": 30,
   "metadata": {},
   "outputs": [
    {
     "name": "stdout",
     "output_type": "stream",
     "text": [
      "[(1, 4), (1, 5), (1, 6), (2, 4), (2, 5), (2, 6), (3, 4), (3, 5), (3, 6)]\n"
     ]
    }
   ],
   "source": [
    "pairs_loop = []\n",
    "for x in nums1:\n",
    "    for y in nums2:\n",
    "        pairs_loop.append((x, y))\n",
    "print(pairs_loop)"
   ]
  }
 ],
 "metadata": {
  "kernelspec": {
   "display_name": "Python 3",
   "language": "python",
   "name": "python3"
  },
  "language_info": {
   "codemirror_mode": {
    "name": "ipython",
    "version": 3
   },
   "file_extension": ".py",
   "mimetype": "text/x-python",
   "name": "python",
   "nbconvert_exporter": "python",
   "pygments_lexer": "ipython3",
   "version": "3.9.13"
  },
  "orig_nbformat": 4
 },
 "nbformat": 4,
 "nbformat_minor": 2
}
