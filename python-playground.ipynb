{
 "cells": [
  {
   "cell_type": "code",
   "execution_count": 1,
   "metadata": {},
   "outputs": [],
   "source": [
    "# Iterating process\n",
    "# for x in something_Iterable:\n",
    "#     Code and stuff"
   ]
  },
  {
   "cell_type": "code",
   "execution_count": 2,
   "metadata": {},
   "outputs": [
    {
     "name": "stdout",
     "output_type": "stream",
     "text": [
      "a\n",
      "b\n",
      "c\n",
      "d\n",
      "e\n"
     ]
    }
   ],
   "source": [
    "# Sequence: Iterable & Ordered\n",
    "# Common sequences: lists, tuples, strings, bytes\n",
    "my_list = [\"a\", \"b\", \"c\", \"d\", \"e\"]\n",
    "for element in my_list:\n",
    "    print(element)"
   ]
  },
  {
   "cell_type": "code",
   "execution_count": 3,
   "metadata": {},
   "outputs": [
    {
     "name": "stdout",
     "output_type": "stream",
     "text": [
      "H\n",
      "I\n",
      "J\n",
      "K\n"
     ]
    }
   ],
   "source": [
    "for element in (\"H\", \"I\", \"J\", \"K\"):\n",
    "    print(element)"
   ]
  },
  {
   "cell_type": "code",
   "execution_count": 4,
   "metadata": {},
   "outputs": [
    {
     "name": "stdout",
     "output_type": "stream",
     "text": [
      "H\n",
      "e\n",
      "l\n",
      "l\n",
      "o\n",
      " \n",
      "W\n",
      "o\n",
      "r\n",
      "l\n",
      "d\n",
      "!\n"
     ]
    }
   ],
   "source": [
    "for letter in \"Hello World!\":\n",
    "    print(letter)"
   ]
  },
  {
   "cell_type": "code",
   "execution_count": 5,
   "metadata": {},
   "outputs": [
    {
     "name": "stdout",
     "output_type": "stream",
     "text": [
      "66\n",
      "105\n",
      "110\n",
      "97\n",
      "114\n",
      "121\n"
     ]
    }
   ],
   "source": [
    "for byte in b\"Binary\":\n",
    "    print(byte)  # ascii codes for corresponding letter"
   ]
  },
  {
   "cell_type": "code",
   "execution_count": 6,
   "metadata": {},
   "outputs": [
    {
     "name": "stdout",
     "output_type": "stream",
     "text": [
      "[1, 2, 3, 4, 5, 6, 7]\n",
      "1\n",
      "2\n",
      "3\n",
      "4\n",
      "5\n",
      "6\n",
      "7\n"
     ]
    }
   ],
   "source": [
    "# integers are not iterable objects\n",
    "# for digit in 1234567:\n",
    "#     print(digit)\n",
    "\n",
    "c = 1234567\n",
    "digits = [int(d) for d in str(c)]  # list comprehension\n",
    "print(digits)\n",
    "for digit in digits:\n",
    "    print(digit)"
   ]
  },
  {
   "cell_type": "code",
   "execution_count": 7,
   "metadata": {},
   "outputs": [],
   "source": [
    "# What make an object iterable?\n",
    "# collections.abc module: https://docs.python.org/3/library/collections.abc.html\n",
    "# container.__iter__() ->\n",
    "#   Return an iterator object\n",
    "# iterator.__next__() ->\n",
    "#   Return next item from container, If no further item, raise StopIteration exception."
   ]
  },
  {
   "cell_type": "code",
   "execution_count": 8,
   "metadata": {},
   "outputs": [
    {
     "name": "stdout",
     "output_type": "stream",
     "text": [
      "1\n",
      "2\n",
      "3\n"
     ]
    }
   ],
   "source": [
    "# imitate for loop\n",
    "# a instance of collections.abc.Iterable, it implements the __iter__() method that is required to be iterable\n",
    "my_container = [1, 2, 3]\n",
    "# a instance of collections.abc.Iterator, it implements the __next__() method required for iteration\n",
    "my_iterator = my_container.__iter__()\n",
    "# print(type(my_iterator))\n",
    "print(my_iterator.__next__())\n",
    "print(my_iterator.__next__())\n",
    "print(my_iterator.__next__())\n",
    "# print(my_iterator.__next__())"
   ]
  },
  {
   "cell_type": "code",
   "execution_count": 9,
   "metadata": {},
   "outputs": [
    {
     "name": "stdout",
     "output_type": "stream",
     "text": [
      "1\n",
      "2\n",
      "3\n"
     ]
    }
   ],
   "source": [
    "my_container2 = (1, 2, 3)\n",
    "my_iterator2 = iter(my_container2)\n",
    "# print(type(my_iterator2))\n",
    "print(next(my_iterator2))\n",
    "print(next(my_iterator2))\n",
    "print(next(my_iterator2))\n",
    "# print(next(my_iterator2))"
   ]
  },
  {
   "cell_type": "code",
   "execution_count": 10,
   "metadata": {},
   "outputs": [
    {
     "name": "stdout",
     "output_type": "stream",
     "text": [
      "H\n",
      "e\n",
      "l\n",
      "l\n",
      "o\n",
      "!\n"
     ]
    }
   ],
   "source": [
    "my_string = \"Hello!\"\n",
    "\n",
    "# for letter in my_string:\n",
    "#     print(letter)\n",
    "\n",
    "my_iterator3 = iter(my_string)\n",
    "while True:\n",
    "    try:\n",
    "        letter = next(my_iterator3)\n",
    "        print(letter)\n",
    "    except StopIteration:\n",
    "        break"
   ]
  },
  {
   "cell_type": "code",
   "execution_count": 11,
   "metadata": {},
   "outputs": [
    {
     "name": "stdout",
     "output_type": "stream",
     "text": [
      "Apple 7\n",
      "Microsoft 10\n",
      "Google -4\n"
     ]
    }
   ],
   "source": [
    "# create class with iteration built in\n",
    "class Portfolio:\n",
    "    def __init__(self):\n",
    "        self.holdings = {}  # Key = ticker, Value = number of shares\n",
    "\n",
    "    def buy(self, ticker, shares):\n",
    "        self.holdings[ticker] = self.holdings.get(ticker, 0) + shares\n",
    "\n",
    "    def sell(self, ticker, shares):\n",
    "        self.holdings[ticker] = self.holdings.get(ticker, 0) - shares\n",
    "\n",
    "    def __iter__(self):\n",
    "        return iter(self.holdings.items())\n",
    "\n",
    "\n",
    "p = Portfolio()\n",
    "p.buy(\"Apple\", 5)\n",
    "p.buy(\"Apple\", 2)\n",
    "p.buy(\"Microsoft\", 10)\n",
    "p.sell(\"Google\", 4)\n",
    "\n",
    "for ticker, shares in p:\n",
    "    print(ticker, shares)"
   ]
  },
  {
   "cell_type": "code",
   "execution_count": 12,
   "metadata": {},
   "outputs": [
    {
     "name": "stdout",
     "output_type": "stream",
     "text": [
      "[2, 3, 4, 5, 6, 7, 8, 9, 10, 'J', 'Q', 'K', 'A']\n",
      "['2', '3', '4', '5', '6', '7', '8', '9', '10', 'J', 'Q', 'K', 'A']\n",
      "[('2', 'Spades'), ('2', 'Hearts'), ('2', 'Clubs'), ('2', 'Diaonds'), ('3', 'Spades'), ('3', 'Hearts'), ('3', 'Clubs'), ('3', 'Diaonds'), ('4', 'Spades'), ('4', 'Hearts'), ('4', 'Clubs'), ('4', 'Diaonds'), ('5', 'Spades'), ('5', 'Hearts'), ('5', 'Clubs'), ('5', 'Diaonds'), ('6', 'Spades'), ('6', 'Hearts'), ('6', 'Clubs'), ('6', 'Diaonds'), ('7', 'Spades'), ('7', 'Hearts'), ('7', 'Clubs'), ('7', 'Diaonds'), ('8', 'Spades'), ('8', 'Hearts'), ('8', 'Clubs'), ('8', 'Diaonds'), ('9', 'Spades'), ('9', 'Hearts'), ('9', 'Clubs'), ('9', 'Diaonds'), ('10', 'Spades'), ('10', 'Hearts'), ('10', 'Clubs'), ('10', 'Diaonds'), ('J', 'Spades'), ('J', 'Hearts'), ('J', 'Clubs'), ('J', 'Diaonds'), ('Q', 'Spades'), ('Q', 'Hearts'), ('Q', 'Clubs'), ('Q', 'Diaonds'), ('K', 'Spades'), ('K', 'Hearts'), ('K', 'Clubs'), ('K', 'Diaonds'), ('A', 'Spades'), ('A', 'Hearts'), ('A', 'Clubs'), ('A', 'Diaonds')]\n",
      "1 ('2', 'Spades')\n",
      "2 ('2', 'Hearts')\n",
      "3 ('2', 'Clubs')\n",
      "4 ('2', 'Diaonds')\n",
      "5 ('3', 'Spades')\n",
      "6 ('3', 'Hearts')\n",
      "7 ('3', 'Clubs')\n",
      "8 ('3', 'Diaonds')\n",
      "9 ('4', 'Spades')\n",
      "10 ('4', 'Hearts')\n",
      "11 ('4', 'Clubs')\n",
      "12 ('4', 'Diaonds')\n",
      "13 ('5', 'Spades')\n",
      "14 ('5', 'Hearts')\n",
      "15 ('5', 'Clubs')\n",
      "16 ('5', 'Diaonds')\n",
      "17 ('6', 'Spades')\n",
      "18 ('6', 'Hearts')\n",
      "19 ('6', 'Clubs')\n",
      "20 ('6', 'Diaonds')\n",
      "21 ('7', 'Spades')\n",
      "22 ('7', 'Hearts')\n",
      "23 ('7', 'Clubs')\n",
      "24 ('7', 'Diaonds')\n",
      "25 ('8', 'Spades')\n",
      "26 ('8', 'Hearts')\n",
      "27 ('8', 'Clubs')\n",
      "28 ('8', 'Diaonds')\n",
      "29 ('9', 'Spades')\n",
      "30 ('9', 'Hearts')\n",
      "31 ('9', 'Clubs')\n",
      "32 ('9', 'Diaonds')\n",
      "33 ('10', 'Spades')\n",
      "34 ('10', 'Hearts')\n",
      "35 ('10', 'Clubs')\n",
      "36 ('10', 'Diaonds')\n",
      "37 ('J', 'Spades')\n",
      "38 ('J', 'Hearts')\n",
      "39 ('J', 'Clubs')\n",
      "40 ('J', 'Diaonds')\n",
      "41 ('Q', 'Spades')\n",
      "42 ('Q', 'Hearts')\n",
      "43 ('Q', 'Clubs')\n",
      "44 ('Q', 'Diaonds')\n",
      "45 ('K', 'Spades')\n",
      "46 ('K', 'Hearts')\n",
      "47 ('K', 'Clubs')\n",
      "48 ('K', 'Diaonds')\n",
      "49 ('A', 'Spades')\n",
      "50 ('A', 'Hearts')\n",
      "51 ('A', 'Clubs')\n",
      "52 ('A', 'Diaonds')\n"
     ]
    }
   ],
   "source": [
    "# https://docs.python.org/3/library/itertools.html\n",
    "# Construct a list of all possible hands in poker\n",
    "import itertools\n",
    "\n",
    "ranks = list(range(2, 11)) + [\"J\", \"Q\", \"K\", \"A\"]\n",
    "print(ranks)\n",
    "ranks = [str(rank) for rank in ranks]\n",
    "print(ranks)\n",
    "\n",
    "suits = [\"Spades\", \"Hearts\", \"Clubs\", \"Diamonds\"]\n",
    "deck = [card for card in itertools.product(ranks, suits)]\n",
    "print(deck)\n",
    "for index, card in enumerate(deck):\n",
    "    print(index + 1, card)"
   ]
  },
  {
   "cell_type": "code",
   "execution_count": 13,
   "metadata": {},
   "outputs": [
    {
     "name": "stdout",
     "output_type": "stream",
     "text": [
      "The number of 5-card poker hands is: 2598960\n",
      "(('2', 'Spades'), ('2', 'Hearts'), ('2', 'Clubs'), ('2', 'Diaonds'), ('3', 'Spades'))\n",
      "(('2', 'Spades'), ('2', 'Hearts'), ('2', 'Clubs'), ('2', 'Diaonds'), ('3', 'Hearts'))\n",
      "(('2', 'Spades'), ('2', 'Hearts'), ('2', 'Clubs'), ('2', 'Diaonds'), ('3', 'Clubs'))\n",
      "(('2', 'Spades'), ('2', 'Hearts'), ('2', 'Clubs'), ('2', 'Diaonds'), ('3', 'Diaonds'))\n",
      "(('2', 'Spades'), ('2', 'Hearts'), ('2', 'Clubs'), ('2', 'Diaonds'), ('4', 'Spades'))\n",
      "(('2', 'Spades'), ('2', 'Hearts'), ('2', 'Clubs'), ('2', 'Diaonds'), ('4', 'Hearts'))\n",
      "(('2', 'Spades'), ('2', 'Hearts'), ('2', 'Clubs'), ('2', 'Diaonds'), ('4', 'Clubs'))\n"
     ]
    }
   ],
   "source": [
    "hands = [hand for hand in itertools.combinations(deck, 5)]\n",
    "print(f\"The number of 5-card poker hands is: {len(hands)}\")\n",
    "for hand in hands[:7]:\n",
    "    print(hand)"
   ]
  },
  {
   "cell_type": "code",
   "execution_count": 14,
   "metadata": {},
   "outputs": [
    {
     "name": "stdout",
     "output_type": "stream",
     "text": [
      "2598960.0\n"
     ]
    }
   ],
   "source": [
    "import math\n",
    "\n",
    "c = math.factorial(52) / (math.factorial(5) * math.factorial(52 - 5))\n",
    "print(c)"
   ]
  }
 ],
 "metadata": {
  "kernelspec": {
   "display_name": "Python 3",
   "language": "python",
   "name": "python3"
  },
  "language_info": {
   "codemirror_mode": {
    "name": "ipython",
    "version": 3
   },
   "file_extension": ".py",
   "mimetype": "text/x-python",
   "name": "python",
   "nbconvert_exporter": "python",
   "pygments_lexer": "ipython3",
   "version": "3.9.13"
  },
  "orig_nbformat": 4
 },
 "nbformat": 4,
 "nbformat_minor": 2
}
