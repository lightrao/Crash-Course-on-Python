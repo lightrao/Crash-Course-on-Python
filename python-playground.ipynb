{
 "cells": [
  {
   "cell_type": "code",
   "execution_count": 15,
   "metadata": {},
   "outputs": [],
   "source": [
    "import math\n",
    "\n",
    "\n",
    "def area(r):\n",
    "    \"\"\"Area of circle with radius 'r'.\"\"\"\n",
    "    return math.pi * (r**2)\n",
    "\n",
    "\n",
    "radii = [2, 5, 7.1, 0.3, 10]  # ask for area"
   ]
  },
  {
   "cell_type": "code",
   "execution_count": 16,
   "metadata": {},
   "outputs": [
    {
     "name": "stdout",
     "output_type": "stream",
     "text": [
      "[12.566370614359172, 78.53981633974483, 158.36768566746147, 0.2827433388230814, 314.1592653589793]\n"
     ]
    }
   ],
   "source": [
    "# Method 1: Direct method\n",
    "areas = []\n",
    "for r in radii:\n",
    "    a = area(r)\n",
    "    areas.append(a)\n",
    "print(areas)"
   ]
  },
  {
   "cell_type": "code",
   "execution_count": 17,
   "metadata": {},
   "outputs": [
    {
     "name": "stdout",
     "output_type": "stream",
     "text": [
      "<map object at 0x1122bc310>\n",
      "[12.566370614359172, 78.53981633974483, 158.36768566746147, 0.2827433388230814, 314.1592653589793]\n"
     ]
    }
   ],
   "source": [
    "# Method 2: Use 'map' function\n",
    "print(map(area, radii))\n",
    "print(list(map(area, radii)))"
   ]
  },
  {
   "cell_type": "code",
   "execution_count": 18,
   "metadata": {},
   "outputs": [],
   "source": [
    "# Data: a1, a2, ..., an\n",
    "# Function: f\n",
    "# map(f, Data): f(a1), f(a2), ..., f(an)"
   ]
  },
  {
   "cell_type": "code",
   "execution_count": 19,
   "metadata": {},
   "outputs": [
    {
     "name": "stdout",
     "output_type": "stream",
     "text": [
      "[('Berlin', 84.2), ('Cairo', 96.8), ('Buenos Aires', 66.2), ('Los Angeles', 78.8), ('Tokyo', 80.6), ('New York', 82.4), ('London', 71.6), ('Beijing', 89.6)]\n"
     ]
    }
   ],
   "source": [
    "temps_celsius = [\n",
    "    (\"Berlin\", 29),\n",
    "    (\"Cairo\", 36),\n",
    "    (\"Buenos Aires\", 19),\n",
    "    (\"Los Angeles\", 26),\n",
    "    (\"Tokyo\", 27),\n",
    "    (\"New York\", 28),\n",
    "    (\"London\", 22),\n",
    "    (\"Beijing\", 32),\n",
    "]\n",
    "# F = 9C/5 +32\n",
    "c_to_f = lambda data: (data[0], 9 * data[1] / 5 + 32)\n",
    "temps_fahrenheit = list(map(c_to_f, temps_celsius))\n",
    "print(temps_fahrenheit)"
   ]
  },
  {
   "cell_type": "code",
   "execution_count": 20,
   "metadata": {},
   "outputs": [
    {
     "name": "stdout",
     "output_type": "stream",
     "text": [
      "2.183333333333333\n",
      "<filter object at 0x1122a3640>\n",
      "[2.7, 4.1, 4.3]\n",
      "[1.3, 0.8, -0.1]\n"
     ]
    }
   ],
   "source": [
    "# filter funciton\n",
    "# Example: Find all data above the average\n",
    "import statistics\n",
    "\n",
    "data = [1.3, 2.7, 0.8, 4.1, 4.3, -0.1]\n",
    "avg = statistics.mean(data)\n",
    "print(avg)\n",
    "print(filter(lambda x: x > avg, data))\n",
    "print(list(filter(lambda x: x > avg, data)))\n",
    "print(list(filter(lambda x: x < avg, data)))"
   ]
  },
  {
   "cell_type": "code",
   "execution_count": 21,
   "metadata": {},
   "outputs": [
    {
     "name": "stdout",
     "output_type": "stream",
     "text": [
      "['Argentina', 'Brazil', 'Chile', 'Colombia', 'Ecuador', 'Venezuela']\n"
     ]
    }
   ],
   "source": [
    "# Removing missing data\n",
    "# partial list of the countries in south america\n",
    "countries = [\n",
    "    \"\",\n",
    "    \"Argentina\",\n",
    "    \"\",\n",
    "    \"Brazil\",\n",
    "    \"Chile\",\n",
    "    \"\",\n",
    "    \"Colombia\",\n",
    "    \"\",\n",
    "    \"Ecuador\",\n",
    "    \"\",\n",
    "    \"\",\n",
    "    \"Venezuela\",\n",
    "]\n",
    "print(list(filter(None, countries)))  # filters out a values that are treated as false\n",
    "# python false value: \"\", 0, 0.0, 0j, [], (), {}, False, None"
   ]
  },
  {
   "cell_type": "code",
   "execution_count": 22,
   "metadata": {},
   "outputs": [],
   "source": [
    "# reduce function\n",
    "# Data = [a1, a2, a3, ..., an]\n",
    "# Function: f(x,y)\n",
    "\n",
    "# reduce(f, Data):\n",
    "# step 1: value 1=f(a1, a2)\n",
    "# step 2: value 2=f(value 1, a3)\n",
    "# step 3: value 3=f(value 2, a4)\n",
    "# ...\n",
    "# step n-1: value n-1=f(value n-2, an)\n",
    "# return value n-1\n",
    "\n",
    "# return f(f(f(f(a1,a2),a3),a4),...,an)"
   ]
  },
  {
   "cell_type": "code",
   "execution_count": 23,
   "metadata": {},
   "outputs": [
    {
     "name": "stdout",
     "output_type": "stream",
     "text": [
      "6469693230\n"
     ]
    }
   ],
   "source": [
    "from functools import reduce\n",
    "\n",
    "# Multiply all numbers in a list\n",
    "data = [2, 3, 5, 7, 11, 13, 17, 19, 23, 29]\n",
    "multiplier = lambda x, y: x * y\n",
    "print(reduce(multiplier, data))"
   ]
  },
  {
   "cell_type": "code",
   "execution_count": 24,
   "metadata": {},
   "outputs": [
    {
     "name": "stdout",
     "output_type": "stream",
     "text": [
      "6469693230\n"
     ]
    }
   ],
   "source": [
    "product = 1\n",
    "for x in data:\n",
    "    product = product * x\n",
    "print(product)"
   ]
  }
 ],
 "metadata": {
  "kernelspec": {
   "display_name": "Python 3",
   "language": "python",
   "name": "python3"
  },
  "language_info": {
   "codemirror_mode": {
    "name": "ipython",
    "version": 3
   },
   "file_extension": ".py",
   "mimetype": "text/x-python",
   "name": "python",
   "nbconvert_exporter": "python",
   "pygments_lexer": "ipython3",
   "version": "3.9.13"
  },
  "orig_nbformat": 4
 },
 "nbformat": 4,
 "nbformat_minor": 2
}
