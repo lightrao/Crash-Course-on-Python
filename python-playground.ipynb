{
 "cells": [
  {
   "cell_type": "code",
   "execution_count": 14,
   "metadata": {},
   "outputs": [
    {
     "name": "stdout",
     "output_type": "stream",
     "text": [
      "['Barium', 'Beryllium', 'Calcium', 'Magnesium', 'Radium', 'Strontium']\n",
      "['Strontium', 'Radium', 'Magnesium', 'Calcium', 'Beryllium', 'Barium']\n"
     ]
    }
   ],
   "source": [
    "# Alkaline earth metals\n",
    "# atomic number order\n",
    "earth_metals = [\n",
    "    \"Beryllium\",\n",
    "    \"Magnesium\",\n",
    "    \"Calcium\",\n",
    "    \"Strontium\",\n",
    "    \"Barium\",\n",
    "    \"Radium\",\n",
    "]\n",
    "# sort alphabetically\n",
    "earth_metals.sort()\n",
    "print(earth_metals)\n",
    "earth_metals.sort(reverse=True)\n",
    "print(earth_metals)"
   ]
  },
  {
   "cell_type": "code",
   "execution_count": 15,
   "metadata": {},
   "outputs": [],
   "source": [
    "earth_metals_tuple = earth_metals = (\n",
    "    \"Beryllium\",\n",
    "    \"Magnesium\",\n",
    "    \"Calcium\",\n",
    "    \"Strontium\",\n",
    "    \"Barium\",\n",
    "    \"Radium\",\n",
    ")\n",
    "# earth_metals_tuple.sort()\n",
    "# tuples are immutable objects, they can not be changed"
   ]
  },
  {
   "cell_type": "code",
   "execution_count": 16,
   "metadata": {},
   "outputs": [
    {
     "name": "stdout",
     "output_type": "stream",
     "text": [
      "Help on method_descriptor:\n",
      "\n",
      "sort(self, /, *, key=None, reverse=False)\n",
      "    Sort the list in ascending order and return None.\n",
      "    \n",
      "    The sort is in-place (i.e. the list itself is modified) and stable (i.e. the\n",
      "    order of two equal elements is maintained).\n",
      "    \n",
      "    If a key function is given, apply it once to each list item and sort them,\n",
      "    ascending or descending, according to their function values.\n",
      "    \n",
      "    The reverse flag can be set to sort in descending order.\n",
      "\n"
     ]
    }
   ],
   "source": [
    "help(list.sort)"
   ]
  },
  {
   "cell_type": "code",
   "execution_count": 17,
   "metadata": {},
   "outputs": [
    {
     "name": "stdout",
     "output_type": "stream",
     "text": [
      "[('Jupiter', 71492, 1.33, 5.21), ('Saturn', 60268, 0.69, 9.551), ('Uranus', 25559, 1.27, 19.213), ('Neptune', 24764, 1.64, 30.07), ('Earth', 6378, 5.52, 1.0), ('Venus', 6052, 5.24, 0.723), ('Mars', 3396, 3.93, 1.53), ('Mercury', 2440, 5.43, 0.395)]\n",
      "[('Saturn', 60268, 0.69, 9.551), ('Uranus', 25559, 1.27, 19.213), ('Jupiter', 71492, 1.33, 5.21), ('Neptune', 24764, 1.64, 30.07), ('Mars', 3396, 3.93, 1.53), ('Venus', 6052, 5.24, 0.723), ('Mercury', 2440, 5.43, 0.395), ('Earth', 6378, 5.52, 1.0)]\n"
     ]
    }
   ],
   "source": [
    "# eight planets in solar system\n",
    "# format := (name, radius, density, distance from sun)\n",
    "# sort by distance\n",
    "planets = [\n",
    "    (\"Mercury\", 2440, 5.43, 0.395),\n",
    "    (\"Venus\", 6052, 5.24, 0.723),\n",
    "    (\"Earth\", 6378, 5.52, 1.000),\n",
    "    (\"Mars\", 3396, 3.93, 1.530),\n",
    "    (\"Jupiter\", 71492, 1.33, 5.210),\n",
    "    (\"Saturn\", 60268, 0.69, 9.551),\n",
    "    (\"Uranus\", 25559, 1.27, 19.213),\n",
    "    (\"Neptune\", 24764, 1.64, 30.070),\n",
    "]\n",
    "# sort by radius\n",
    "radius = lambda planet: planet[1]\n",
    "planets.sort(key=radius, reverse=True)\n",
    "print(planets)\n",
    "density = lambda planet: planet[2]\n",
    "planets.sort(key=density)\n",
    "print(planets)"
   ]
  },
  {
   "cell_type": "code",
   "execution_count": 18,
   "metadata": {},
   "outputs": [
    {
     "name": "stdout",
     "output_type": "stream",
     "text": [
      "Help on built-in function sorted in module builtins:\n",
      "\n",
      "sorted(iterable, /, *, key=None, reverse=False)\n",
      "    Return a new list containing all items from the iterable in ascending order.\n",
      "    \n",
      "    A custom key function can be supplied to customize the sort order, and the\n",
      "    reverse flag can be set to request the result in descending order.\n",
      "\n"
     ]
    }
   ],
   "source": [
    "# list.sort() changes the list\n",
    "# sorted copy\n",
    "# sort tuple\n",
    "help(sorted)"
   ]
  },
  {
   "cell_type": "code",
   "execution_count": 19,
   "metadata": {},
   "outputs": [
    {
     "name": "stdout",
     "output_type": "stream",
     "text": [
      "['Barium', 'Beryllium', 'Calcium', 'Magnesium', 'Radium', 'Strontium']\n",
      "['Beryllium', 'Magnesium', 'Calcium', 'Strontium', 'Barium', 'Radium']\n"
     ]
    }
   ],
   "source": [
    "earth_metals = [\n",
    "    \"Beryllium\",\n",
    "    \"Magnesium\",\n",
    "    \"Calcium\",\n",
    "    \"Strontium\",\n",
    "    \"Barium\",\n",
    "    \"Radium\",\n",
    "]\n",
    "sorted_earth_metals = sorted(earth_metals)\n",
    "print(sorted_earth_metals)\n",
    "print(earth_metals)"
   ]
  },
  {
   "cell_type": "code",
   "execution_count": 20,
   "metadata": {},
   "outputs": [
    {
     "name": "stdout",
     "output_type": "stream",
     "text": [
      "[1, 2, 3, 4, 5, 6, 7, 8, 9, 10]\n",
      "(7, 2, 5, 6, 1, 3, 9, 10, 4, 8)\n"
     ]
    }
   ],
   "source": [
    "data = (7, 2, 5, 6, 1, 3, 9, 10, 4, 8)\n",
    "print(sorted(data))\n",
    "print(data)"
   ]
  },
  {
   "cell_type": "code",
   "execution_count": 21,
   "metadata": {},
   "outputs": [
    {
     "name": "stdout",
     "output_type": "stream",
     "text": [
      "['A', 'a', 'a', 'b', 'c', 'e', 'h', 'i', 'l', 'l', 'p', 't']\n"
     ]
    }
   ],
   "source": [
    "print(sorted(\"Alphabetical\"))"
   ]
  }
 ],
 "metadata": {
  "kernelspec": {
   "display_name": "Python 3",
   "language": "python",
   "name": "python3"
  },
  "language_info": {
   "codemirror_mode": {
    "name": "ipython",
    "version": 3
   },
   "file_extension": ".py",
   "mimetype": "text/x-python",
   "name": "python",
   "nbconvert_exporter": "python",
   "pygments_lexer": "ipython3",
   "version": "3.9.13"
  },
  "orig_nbformat": 4
 },
 "nbformat": 4,
 "nbformat_minor": 2
}
