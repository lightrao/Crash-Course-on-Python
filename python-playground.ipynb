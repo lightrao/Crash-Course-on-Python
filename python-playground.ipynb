{
 "cells": [
  {
   "attachments": {},
   "cell_type": "markdown",
   "metadata": {},
   "source": [
    "<h4>Logging</h4>\n",
    "<p>Purpose: Record progress and problems of your code.</p>\n",
    "<p>Levels: Debug, Info, Warning, Error, Critical</p>\n",
    "<p><ul><li><strong>Notset = 0</strong>: This is the initial default setting of a log when it is created. It is not really relevant and most developers will not even take notice of this category. In many circles, it has already become nonessential. The root log is usually created with level WARNING.</li><li><strong>Debug = 10</strong>: This level gives detailed information, useful only when a problem is being diagnosed.</li><li><strong>Info = 20:</strong> This is used to confirm that everything is working as it should.</li><li><strong>Warning = 30:</strong> This level indicates that something unexpected has happened or some problem is about to happen in the near future.</li><li><strong>Error = 40:</strong> As it implies, an error has occurred. The software was unable to perform some function.</li><li><strong>Critical = 50</strong>: A serious error has occurred. The program itself may shut down or not be able to continue running properly.</li></ul></p>\n",
    "<p>logging module: constansts(entries in all caps), classes(caitalized items), methods(camelCase)</p>"
   ]
  }
 ],
 "metadata": {
  "kernelspec": {
   "display_name": "Python 3",
   "language": "python",
   "name": "python3"
  },
  "language_info": {
   "codemirror_mode": {
    "name": "ipython",
    "version": 3
   },
   "file_extension": ".py",
   "mimetype": "text/x-python",
   "name": "python",
   "nbconvert_exporter": "python",
   "pygments_lexer": "ipython3",
   "version": "3.9.13"
  },
  "orig_nbformat": 4
 },
 "nbformat": 4,
 "nbformat_minor": 2
}
