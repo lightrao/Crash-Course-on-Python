{
 "cells": [
  {
   "cell_type": "code",
   "execution_count": 4,
   "metadata": {},
   "outputs": [],
   "source": [
    "# URL: Uniform Resource Locator\n",
    "\n",
    "# https://movie.douban.com:443/subject/3011317/?key=value&from=showing#related-pic\n",
    "\n",
    "# Protocol(scheme): http, https, ftp, ...\n",
    "\n",
    "# Host: movie.douban.com <- translated to IP address by DNS(Domain name system)\n",
    "\n",
    "# Port: http=80, https=443\n",
    "\n",
    "# Path: subject/3011317 <- A path in a URL is a part of the URL that identifies a specific location\n",
    "# within a web server or application.\n",
    "\n",
    "# Querystring: key=value&from=showing <- The query string is used to send additional information to\n",
    "# a web application or back-end database. The meaning of these pairs depends on how the web server interprets them.\n",
    "\n",
    "# Fragment: related-pic <- Jump to a section within the webpage"
   ]
  },
  {
   "cell_type": "code",
   "execution_count": 5,
   "metadata": {},
   "outputs": [],
   "source": [
    "# \"urllib\" pakage simplifies the task of building, loading, and parsing URLs\n",
    "\n",
    "# request:Is used to open urls *\n",
    "\n",
    "# response: used internally by the request module\n",
    "\n",
    "# error: request exceptions for use by request module\n",
    "\n",
    "# parse: useful fuctions for breaking up url into meaningful pieces, like: scheme(http, https, ftp, etc.),\n",
    "# host, port, querystring\n",
    "\n",
    "# robotparser: inspect robots.txt files for what permissions are granted to bots and crawlers"
   ]
  },
  {
   "cell_type": "code",
   "execution_count": 6,
   "metadata": {},
   "outputs": [],
   "source": [
    "# http status code\n",
    "# https://developer.mozilla.org/en-US/docs/Web/HTTP/Status"
   ]
  },
  {
   "cell_type": "code",
   "execution_count": 3,
   "metadata": {},
   "outputs": [
    {
     "name": "stdout",
     "output_type": "stream",
     "text": [
      "<class 'http.client.HTTPResponse'>\n",
      "200\n",
      "227\n",
      "<class 'bytes'>\n",
      "b'<html>\\r\\n<head>\\r\\n\\t<script>\\r'\n"
     ]
    }
   ],
   "source": [
    "from urllib import request\n",
    "\n",
    "url = \"https://www.baidu.com\"\n",
    "resp = request.urlopen(url)\n",
    "print(type(resp))\n",
    "print(resp.code)\n",
    "print(resp.length)  # size of the response in bytes\n",
    "print(type(resp.peek()))\n",
    "print(\n",
    "    resp.peek()\n",
    ")  # bytes object, web server can host binary data in addition to HTML files"
   ]
  },
  {
   "cell_type": "code",
   "execution_count": null,
   "metadata": {},
   "outputs": [
    {
     "name": "stdout",
     "output_type": "stream",
     "text": [
      "<class 'bytes'>\n",
      "227\n",
      "<class 'str'>\n",
      "<html>\n",
      "<head>\n",
      "\t<script>\n",
      "\t\tlocation.replace(location.href.replace(\"https://\",\"http://\"));\n",
      "\t</script>\n",
      "</head>\n",
      "<body>\n",
      "\t<noscript><meta http-equiv=\"refresh\" content=\"0;url=http://www.baidu.com/\"></noscript>\n",
      "</body>\n",
      "</html>\n",
      "b''\n"
     ]
    }
   ],
   "source": [
    "data = resp.read()\n",
    "print(type(data))\n",
    "print(len(data))\n",
    "html = data.decode(\"UTF-8\")  # convert bytes object to text(string)\n",
    "print(type(html))\n",
    "print(html)\n",
    "print(resp.read())  # try to read the response a second time, connection are closed"
   ]
  },
  {
   "cell_type": "code",
   "execution_count": 21,
   "metadata": {},
   "outputs": [
    {
     "name": "stdout",
     "output_type": "stream",
     "text": [
      "q=python&form=QBLHCN\n",
      "False\n",
      "200\n",
      "<class 'str'>\n",
      "<!DOCTYPE html><html dir=\"ltr\" lang=\"zh\" xml:lang=\"zh\" xmlns=\"http://www.w3.org/1999/xhtml\" xmlns:Web=\"http://schemas.live.com/Web/\"><script type=\"text/javascript\" >//<![CDATA[\n",
      "si_ST=new Date\n",
      "//]]></script><head><!--pc--><title>python - 搜索</title><meta content=\"text/html; charset=utf-8\" http-equiv=\"content-type\" /><meta name=\"referrer\" content=\"origin-when-cross-origin\" /><meta property=\"og:description\" content=\"通过必应的智能搜索，可以更轻松地快速查找所需内容并获得奖励。\" /><meta property=\"og:site_name\" content=\"必应\" /><meta property=\"og:title\" content=\"python - 必应\" /><meta property=\"og:url\" content=\"https://cn.bing.com/search?q=python&amp;form=QBLHCN\" /><meta property=\"fb:app_id\" content=\"570810223073062\" /><meta property=\"og:image\" content=\"http://www.bing.com/sa/simg/facebook_sharing_5.png\" /><meta property=\"og:type\" content=\"website\" /><meta property=\"og:image:width\" content=\"600\" /><meta property=\"og:image:height\" content=\"315\" /><link href=\"/search?format=rss&amp;q=python&amp;form=QBLHCN\" data-orighref=\"\" r\n"
     ]
    }
   ],
   "source": [
    "# \"https://cn.bing.com/search?q=python&form=QBLHCN\"\n",
    "from urllib import parse\n",
    "\n",
    "params = {\"q\": \"python\", \"form\": \"QBLHCN\"}  # dictionary\n",
    "querystring = parse.urlencode(params)\n",
    "print(querystring)\n",
    "video_url = \"https://cn.bing.com/search\" + \"?\" + querystring\n",
    "resp = request.urlopen(video_url)\n",
    "print(resp.isclosed())\n",
    "print(resp.code)\n",
    "html = resp.read().decode(\"utf-8\")\n",
    "print(type(html))\n",
    "print(html[:1000])"
   ]
  }
 ],
 "metadata": {
  "kernelspec": {
   "display_name": "Python 3",
   "language": "python",
   "name": "python3"
  },
  "language_info": {
   "codemirror_mode": {
    "name": "ipython",
    "version": 3
   },
   "file_extension": ".py",
   "mimetype": "text/x-python",
   "name": "python",
   "nbconvert_exporter": "python",
   "pygments_lexer": "ipython3",
   "version": "3.9.13"
  },
  "orig_nbformat": 4
 },
 "nbformat": 4,
 "nbformat_minor": 2
}
