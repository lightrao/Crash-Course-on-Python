{
 "cells": [
  {
   "cell_type": "code",
   "execution_count": 58,
   "metadata": {},
   "outputs": [],
   "source": [
    "# URL: Uniform Resource Locator\n",
    "\n",
    "# https://movie.douban.com/subject/3011317/?key=value&from=showing#related-pic\n",
    "# Protocol: http, https, ftp, ...\n",
    "# Host: movie.douban.com\n",
    "# Port: http=80, https=443\n",
    "# Path: subject/3011317 <- A path in a URL is a part of the URL that identifies a specific location within a web server or application.\n",
    "# Querystring: key=value&from=showing <- The query string is used to send additional information to a web application or back-end database.\n",
    "# Fragment: related-pic"
   ]
  },
  {
   "cell_type": "code",
   "execution_count": 59,
   "metadata": {},
   "outputs": [],
   "source": [
    "# \"urllib\" pakage simplifies the task of building, loading, and parsing URLs\n",
    "# request: open urls *\n",
    "# response: used internally by the request module\n",
    "# error: request exceptions\n",
    "# parse: useful fuctions for breaking up url into meaningful pieces, like: scheme, host, port, querystring\n",
    "# robotparser: inspect robots.txt files for what permissions are granted to bots and crawlers"
   ]
  },
  {
   "cell_type": "code",
   "execution_count": 60,
   "metadata": {},
   "outputs": [],
   "source": [
    "# http status code\n",
    "# https://developer.mozilla.org/en-US/docs/Web/HTTP/Status"
   ]
  },
  {
   "cell_type": "code",
   "execution_count": 61,
   "metadata": {},
   "outputs": [
    {
     "name": "stdout",
     "output_type": "stream",
     "text": [
      "<class 'http.client.HTTPResponse'>\n",
      "200\n",
      "227\n",
      "<class 'bytes'>\n",
      "b'<html>\\r\\n<head>\\r\\n\\t<script>\\r\\n\\t\\tlocation.replace(location.href.replace(\"https://\",\"http://\"));\\r\\n\\t</script>\\r\\n</head>\\r\\n<body>\\r\\n\\t<noscript><meta http-equiv=\"refresh\" content=\"0;url=http://www.baidu.com/\"></noscript>\\r\\n</body>\\r\\n</html>'\n"
     ]
    }
   ],
   "source": [
    "from urllib import request\n",
    "\n",
    "url = \"https://www.baidu.com\"\n",
    "resp = request.urlopen(url)\n",
    "print(type(resp))\n",
    "print(resp.code)\n",
    "print(resp.length)\n",
    "print(type(resp.peek()))\n",
    "print(resp.peek())"
   ]
  },
  {
   "cell_type": "code",
   "execution_count": 62,
   "metadata": {},
   "outputs": [
    {
     "name": "stdout",
     "output_type": "stream",
     "text": [
      "<class 'bytes'>\n",
      "227\n",
      "<class 'str'>\n",
      "<html>\n",
      "<head>\n",
      "\t<script>\n",
      "\t\tlocation.replace(location.href.replace(\"https://\",\"http://\"));\n",
      "\t</script>\n",
      "</head>\n",
      "<body>\n",
      "\t<noscript><meta http-equiv=\"refresh\" content=\"0;url=http://www.baidu.com/\"></noscript>\n",
      "</body>\n",
      "</html>\n",
      "b''\n"
     ]
    }
   ],
   "source": [
    "data = resp.read()\n",
    "print(type(data))\n",
    "print(len(data))\n",
    "html = data.decode(\"UTF-8\")\n",
    "print(type(html))\n",
    "print(html)\n",
    "print(resp.read())  # connection are closed"
   ]
  },
  {
   "cell_type": "code",
   "execution_count": 63,
   "metadata": {},
   "outputs": [
    {
     "name": "stdout",
     "output_type": "stream",
     "text": [
      "t=1173.2\n",
      "False\n",
      "200\n",
      "<class 'str'>\n",
      "<!DOCTYPE html><html><head><meta http-equiv=\"Content-Type\" content=\"text/html; charset=utf-8\"><meta name=\"referrer\" content=\"no-referrer-when-downgrade\"><link rel=\"dns-prefetch\" href=\"//s1.hdslb.com\"><link rel=\"dns-prefetch\" href=\"//s2.hdslb.com\"><link rel=\"dns-prefetch\" href=\"//s3.hdslb.com\"><link rel=\"dns-prefetch\" href=\"//i0.hdslb.com\"><link rel=\"dns-prefetch\" href=\"//i1.hdslb.com\"><link rel=\"dns-prefetch\" href=\"//i2.hdslb.com\"><link rel=\"dns-prefetch\" href=\"//static.hdslb.com\"><title>红楼梦第7集-\n"
     ]
    }
   ],
   "source": [
    "# https://www.bilibili.com/bangumi/play/ep327849?t=1173.2\n",
    "from urllib import parse\n",
    "\n",
    "params = {\"t\": \"1173.2\"}\n",
    "querystring = parse.urlencode(params)\n",
    "print(querystring)\n",
    "video_url = \"https://www.bilibili.com/bangumi/play/ep327849\" + \"?\" + querystring\n",
    "resp = request.urlopen(video_url)\n",
    "print(resp.isclosed())\n",
    "print(resp.code)\n",
    "html = resp.read().decode(\"utf-8\")\n",
    "print(type(html))\n",
    "print(html[:500])"
   ]
  }
 ],
 "metadata": {
  "kernelspec": {
   "display_name": "Python 3",
   "language": "python",
   "name": "python3"
  },
  "language_info": {
   "codemirror_mode": {
    "name": "ipython",
    "version": 3
   },
   "file_extension": ".py",
   "mimetype": "text/x-python",
   "name": "python",
   "nbconvert_exporter": "python",
   "pygments_lexer": "ipython3",
   "version": "3.9.13"
  },
  "orig_nbformat": 4
 },
 "nbformat": 4,
 "nbformat_minor": 2
}
